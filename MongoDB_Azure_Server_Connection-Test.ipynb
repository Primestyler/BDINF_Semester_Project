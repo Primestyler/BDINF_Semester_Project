{
 "cells": [
  {
   "cell_type": "code",
   "execution_count": 1,
   "id": "c6b7f94b-3053-4ea8-a759-5bb4b3e18b6d",
   "metadata": {
    "scrolled": false
   },
   "outputs": [
    {
     "name": "stdout",
     "output_type": "stream",
     "text": [
      "Requirement already satisfied: pymongo in c:\\users\\kalar\\anaconda3\\lib\\site-packages (4.6.2)\n",
      "Requirement already satisfied: dnspython<3.0.0,>=1.16.0 in c:\\users\\kalar\\anaconda3\\lib\\site-packages (from pymongo) (2.6.1)\n",
      "Note: you may need to restart the kernel to use updated packages.\n"
     ]
    }
   ],
   "source": [
    "pip install pymongo"
   ]
  },
  {
   "cell_type": "code",
   "execution_count": 7,
   "id": "3180d069-b443-449d-b23d-7e218abc3af9",
   "metadata": {},
   "outputs": [],
   "source": [
    "import pymongo\n",
    "\n",
    "# Verbindung zur MongoDB-Datenbank am Azure Server herstellen\n",
    "client = pymongo.MongoClient(\n",
    "    host = '20.82.185.108:27017', # <-- IP and port go here\n",
    "    serverSelectionTimeoutMS = 30000, # 30 seconds timeout\n",
    "    username=\"group3\",\n",
    "    password=\"football\",\n",
    ")"
   ]
  },
  {
   "cell_type": "code",
   "execution_count": 8,
   "id": "012744e9-eded-4441-8968-92b83b9e7195",
   "metadata": {},
   "outputs": [
    {
     "name": "stdout",
     "output_type": "stream",
     "text": [
      "['admin', 'config', 'football_data', 'football_stats', 'local']\n"
     ]
    }
   ],
   "source": [
    "print(client.list_database_names())"
   ]
  },
  {
   "cell_type": "code",
   "execution_count": 9,
   "id": "f8ca741c-9fe2-4db2-a04b-0fa4c1bca8a6",
   "metadata": {},
   "outputs": [
    {
     "name": "stdout",
     "output_type": "stream",
     "text": [
      "Verbindung zur MongoDB-Datenbank hergestellt.\n",
      "Liste der Datenbanken: ['admin', 'config', 'football_data', 'football_stats', 'local']\n"
     ]
    }
   ],
   "source": [
    "try:\n",
    "    client.server_info()\n",
    "    print(\"Verbindung zur MongoDB-Datenbank hergestellt.\")\n",
    "    print(\"Liste der Datenbanken:\", client.list_database_names())\n",
    "except pymongo.errors.ServerSelectionTimeoutError as err:\n",
    "    print(\"Fehler beim Herstellen der Verbindung zur MongoDB-Datenbank:\", err)"
   ]
  },
  {
   "cell_type": "code",
   "execution_count": 6,
   "id": "3a39ec98",
   "metadata": {},
   "outputs": [
    {
     "ename": "NameError",
     "evalue": "name 'base_url' is not defined",
     "output_type": "error",
     "traceback": [
      "\u001b[1;31m---------------------------------------------------------------------------\u001b[0m",
      "\u001b[1;31mNameError\u001b[0m                                 Traceback (most recent call last)",
      "Cell \u001b[1;32mIn[6], line 37\u001b[0m\n\u001b[0;32m     34\u001b[0m competition_id \u001b[38;5;241m=\u001b[39m \u001b[38;5;241m2019\u001b[39m  \u001b[38;5;66;03m# Beispielwettbewerbs-ID (Serie A)\u001b[39;00m\n\u001b[0;32m     35\u001b[0m num_players \u001b[38;5;241m=\u001b[39m \u001b[38;5;241m5\u001b[39m  \u001b[38;5;66;03m# Anzahl der Top-Torschützen, die abgerufen werden sollen\u001b[39;00m\n\u001b[1;32m---> 37\u001b[0m top_scorers \u001b[38;5;241m=\u001b[39m extract_top_scorers_data(competition_id, num_players)\n\u001b[0;32m     38\u001b[0m insert_data_to_database(top_scorers, \u001b[38;5;124m'\u001b[39m\u001b[38;5;124mtop_scorers_collection\u001b[39m\u001b[38;5;124m'\u001b[39m)\n",
      "Cell \u001b[1;32mIn[6], line 24\u001b[0m, in \u001b[0;36mextract_top_scorers_data\u001b[1;34m(competition_id, num_players)\u001b[0m\n\u001b[0;32m     23\u001b[0m \u001b[38;5;28;01mdef\u001b[39;00m \u001b[38;5;21mextract_top_scorers_data\u001b[39m(competition_id, num_players):\n\u001b[1;32m---> 24\u001b[0m     scorers_data \u001b[38;5;241m=\u001b[39m fetch_data(\u001b[38;5;124mf\u001b[39m\u001b[38;5;124m\"\u001b[39m\u001b[38;5;124m/competitions/\u001b[39m\u001b[38;5;132;01m{\u001b[39;00mcompetition_id\u001b[38;5;132;01m}\u001b[39;00m\u001b[38;5;124m/scorers\u001b[39m\u001b[38;5;124m\"\u001b[39m)\n\u001b[0;32m     25\u001b[0m     top_scorers \u001b[38;5;241m=\u001b[39m scorers_data[\u001b[38;5;124m\"\u001b[39m\u001b[38;5;124mscorers\u001b[39m\u001b[38;5;124m\"\u001b[39m][:num_players]  \u001b[38;5;66;03m# Die ersten num_players Top-Torschützen\u001b[39;00m\n\u001b[0;32m     26\u001b[0m     \u001b[38;5;28;01mreturn\u001b[39;00m top_scorers\n",
      "Cell \u001b[1;32mIn[6], line 18\u001b[0m, in \u001b[0;36mfetch_data\u001b[1;34m(endpoint)\u001b[0m\n\u001b[0;32m     17\u001b[0m \u001b[38;5;28;01mdef\u001b[39;00m \u001b[38;5;21mfetch_data\u001b[39m(endpoint):\n\u001b[1;32m---> 18\u001b[0m     response \u001b[38;5;241m=\u001b[39m requests\u001b[38;5;241m.\u001b[39mget(base_url \u001b[38;5;241m+\u001b[39m endpoint, headers\u001b[38;5;241m=\u001b[39mheaders)\n\u001b[0;32m     19\u001b[0m     data \u001b[38;5;241m=\u001b[39m response\u001b[38;5;241m.\u001b[39mjson()\n\u001b[0;32m     20\u001b[0m     \u001b[38;5;28;01mreturn\u001b[39;00m data\n",
      "\u001b[1;31mNameError\u001b[0m: name 'base_url' is not defined"
     ]
    }
   ],
   "source": [
    "import requests\n",
    "from datetime import datetime\n",
    "import math\n",
    "\n",
    "# Verbindung zur MongoDB-Datenbank am Azure Server herstellen\n",
    "client = pymongo.MongoClient(\n",
    "    host='20.82.185.108:27017', # <-- IP und Port hier einfügen\n",
    "    serverSelectionTimeoutMS=30000, # 30 Sekunden Timeout\n",
    "    username=\"group3\",\n",
    "    password=\"football\",\n",
    ")\n",
    "\n",
    "# Datenbank auswählen\n",
    "db = client['your_database_name'] # Datenbankname hier einfügen\n",
    "\n",
    "# Funktion zur Abrufung von Daten über die football-data.org API\n",
    "def fetch_data(endpoint):\n",
    "    response = requests.get(base_url + endpoint, headers=headers)\n",
    "    data = response.json()\n",
    "    return data\n",
    "\n",
    "# Funktion zur Extraktion von Daten über die Top-Torschützen eines Wettbewerbs\n",
    "def extract_top_scorers_data(competition_id, num_players):\n",
    "    scorers_data = fetch_data(f\"/competitions/{competition_id}/scorers\")\n",
    "    top_scorers = scorers_data[\"scorers\"][:num_players]  # Die ersten num_players Top-Torschützen\n",
    "    return top_scorers\n",
    "\n",
    "# Funktion zum Einfügen von Daten in die MongoDB-Datenbank\n",
    "def insert_data_to_database(data, collection_name):\n",
    "    collection = db[collection_name] # Kollektionsname hier einfügen\n",
    "    collection.insert_many(data)\n",
    "\n",
    "# Beispielaufruf und Einfügen der Top-Torschützen in die Datenbank\n",
    "competition_id = 2019  # Beispielwettbewerbs-ID (Serie A)\n",
    "num_players = 5  # Anzahl der Top-Torschützen, die abgerufen werden sollen\n",
    "\n",
    "top_scorers = extract_top_scorers_data(competition_id, num_players)\n",
    "insert_data_to_database(top_scorers, 'top_scorers_collection') # Kollektionsname hier einfügen\n"
   ]
  },
  {
   "cell_type": "code",
   "execution_count": null,
   "id": "bb512733",
   "metadata": {},
   "outputs": [],
   "source": []
  }
 ],
 "metadata": {
  "kernelspec": {
   "display_name": "Python 3 (ipykernel)",
   "language": "python",
   "name": "python3"
  },
  "language_info": {
   "codemirror_mode": {
    "name": "ipython",
    "version": 3
   },
   "file_extension": ".py",
   "mimetype": "text/x-python",
   "name": "python",
   "nbconvert_exporter": "python",
   "pygments_lexer": "ipython3",
   "version": "3.11.5"
  }
 },
 "nbformat": 4,
 "nbformat_minor": 5
}
