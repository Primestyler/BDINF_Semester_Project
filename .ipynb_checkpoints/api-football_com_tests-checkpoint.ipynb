{
 "cells": [
  {
   "cell_type": "code",
   "execution_count": 121,
   "id": "37255c25-84ab-4aa7-824b-ef841e16de05",
   "metadata": {},
   "outputs": [],
   "source": [
    "import requests\n",
    "from datetime import datetime\n",
    "import math\n",
    "import pymongo\n",
    "import pandas as pd\n",
    "import matplotlib.pyplot as plt"
   ]
  },
  {
   "cell_type": "markdown",
   "id": "1211cf06-41ea-4ed3-8670-8bcaaad69230",
   "metadata": {},
   "source": [
    "# Übersicht der API von api-football.com\n",
    "https://www.api-football.com/documentation-v3\n",
    "![title](img/api-football-com_overview.png)"
   ]
  },
  {
   "cell_type": "code",
   "execution_count": null,
   "id": "bd357891-4734-42b4-81e8-9d62ab37d238",
   "metadata": {},
   "outputs": [],
   "source": [
    "# Funktion zum Abrufen von Daten über api-football.com\n",
    "def fetch_data(endpoint):\n",
    "    base_url = 'https://v3.football.api-sports.io'\n",
    "    headers = {'x-rapidapi-key': '9042f6002a1d87dba47a9712a79e63c7'}  # Hier den API-Schlüssel einfügen\n",
    "    response = requests.get(base_url + endpoint, headers=headers)\n",
    "    data = response.json()\n",
    "    return data"
   ]
  },
  {
   "cell_type": "code",
   "execution_count": null,
   "id": "e81f50c1-bc48-416a-bbcf-4e090d503168",
   "metadata": {
    "tags": []
   },
   "outputs": [],
   "source": [
    "# Verbindung zur MongoDB-Datenbank am Azure Server herstellen\n",
    "client = pymongo.MongoClient(\n",
    "    host='20.82.185.108:27017', # <-- IP und Port hier einfügen\n",
    "    serverSelectionTimeoutMS=30000, # 30 Sekunden Timeout\n",
    "    username=\"group3\",\n",
    "    password=\"football\",\n",
    ")\n",
    "\n",
    "# Datenbank auswählen\n",
    "db = client['football_stats'] # Datenbankname hier einfügen"
   ]
  },
  {
   "cell_type": "code",
   "execution_count": 87,
   "id": "3f4dbb82-9504-43be-a747-9f912b941e14",
   "metadata": {
    "tags": []
   },
   "outputs": [
    {
     "data": {
      "text/plain": [
       "['api_football_com_leagues_seasons_teams',\n",
       " 'top_scorers_39',\n",
       " 'premier_league_fixtures',\n",
       " 'api_football_com_teams_squads',\n",
       " 'competitions',\n",
       " 'top_scorers_collection',\n",
       " 'premier_league_players',\n",
       " 'topredcards',\n",
       " 'topassists',\n",
       " 'api_football_com_leagues',\n",
       " 'api_football_com_leagues_seasons_standings',\n",
       " 'top_scorers',\n",
       " 'topscorers',\n",
       " 'players',\n",
       " 'topyellowcards',\n",
       " 'premier_league_teams',\n",
       " 'teams']"
      ]
     },
     "execution_count": 87,
     "metadata": {},
     "output_type": "execute_result"
    }
   ],
   "source": [
    "db.list_collection_names()"
   ]
  },
  {
   "cell_type": "code",
   "execution_count": 21,
   "id": "384a0e0a-90c2-4997-ad1d-d5bf74ce0c96",
   "metadata": {
    "tags": []
   },
   "outputs": [],
   "source": [
    "# Funktion zum Einfügen einer Liste von Dokumenten in die MongoDB-Datenbank\n",
    "def insert_many_to_database(documents, collection_name):\n",
    "    collection = db[collection_name] # Collection erstellen bzw auswählen\n",
    "    return collection.insert_many(documents)"
   ]
  },
  {
   "cell_type": "code",
   "execution_count": 22,
   "id": "ce4bbab4-1a51-49fd-8319-96b9a40af0d4",
   "metadata": {
    "tags": []
   },
   "outputs": [],
   "source": [
    "# Funktion zum Einfügen eines einzelnen Dokuments in die MongoDB-Datenbank\n",
    "def insert_one_to_database(document, collection_name):\n",
    "    collection = db[collection_name] # Collection erstellen bzw auswählen  \n",
    "    return collection.insert_one(document)"
   ]
  },
  {
   "cell_type": "code",
   "execution_count": 89,
   "id": "96b6f32f-2185-4a95-a947-cbe28d3c24ed",
   "metadata": {
    "tags": []
   },
   "outputs": [],
   "source": [
    "# Funktion zur Extraktion von Daten über die Ligen\n",
    "def extract_leagues_data():\n",
    "    leagues_data = fetch_data(f\"/leagues\")    \n",
    "    return leagues_data"
   ]
  },
  {
   "cell_type": "code",
   "execution_count": 96,
   "id": "7be16c55-f485-49a3-b6ee-ca1346a4aa31",
   "metadata": {
    "tags": []
   },
   "outputs": [
    {
     "name": "stdout",
     "output_type": "stream",
     "text": [
      "Num of leagues: 1094\n",
      "{'id': 4, 'name': 'Euro Championship', 'type': 'Cup', 'logo': 'https://media.api-sports.io/football/leagues/4.png', 'country': 'World', 'last_season_id': 2024}\n",
      "<class 'dict'>\n"
     ]
    }
   ],
   "source": [
    "leagues = extract_leagues_data()\n",
    "\n",
    "print(\"Num of leagues:\", len(leagues[\"response\"]))\n",
    "first_response = leagues[\"response\"][0]\n",
    "# testing to create one league entry\n",
    "league = first_response[\"league\"]\n",
    "league[\"country\"] = first_response[\"country\"][\"name\"]\n",
    "league[\"last_season_id\"] = first_response[\"seasons\"][-1][\"year\"]\n",
    "print(league)\n",
    "print(type(league)) "
   ]
  },
  {
   "cell_type": "code",
   "execution_count": null,
   "id": "4004a757-c761-433d-9020-4d7d16bbee32",
   "metadata": {
    "tags": []
   },
   "outputs": [],
   "source": [
    "# Daten der Ligen in die collection \"api_football_com_leagues\" einfügen\n",
    "i = 1\n",
    "\n",
    "for r in leagues[\"response\"]:\n",
    "    league = r[\"league\"]\n",
    "    league[\"country\"] = r[\"country\"][\"name\"]\n",
    "    league[\"last_season_id\"] = r[\"seasons\"][-1][\"year\"]\n",
    "    insert_result = insert_one_to_database(league, \"api_football_com_leagues\")\n",
    "    print(\"entry_number:\", i, \"inserted_id:\", insert_result.inserted_id)  \n",
    "    i+=1"
   ]
  },
  {
   "cell_type": "code",
   "execution_count": 108,
   "id": "468e2f8e-d83d-4357-a948-c8e76f646730",
   "metadata": {
    "tags": []
   },
   "outputs": [
    {
     "data": {
      "text/plain": [
       "{'_id': ObjectId('66242bf174a7545451a67b9a'),\n",
       " 'id': 4,\n",
       " 'name': 'Euro Championship',\n",
       " 'type': 'Cup',\n",
       " 'logo': 'https://media.api-sports.io/football/leagues/4.png',\n",
       " 'country': 'World',\n",
       " 'last_season_id': 2024}"
      ]
     },
     "execution_count": 108,
     "metadata": {},
     "output_type": "execute_result"
    }
   ],
   "source": [
    "# collection löschen\n",
    "#db.api_football_com_leagues.drop()\n",
    "\n",
    "# Abfrage des ersten Eintrags aus der collection \"api_football_com_leagues\"\n",
    "db.api_football_com_leagues.find_one()"
   ]
  },
  {
   "cell_type": "code",
   "execution_count": 5,
   "id": "4277e02a-ca7d-40ee-9da9-88a5104bc934",
   "metadata": {
    "tags": []
   },
   "outputs": [
    {
     "name": "stdout",
     "output_type": "stream",
     "text": [
      "{'_id': ObjectId('66242c2974a7545451a67bea'), 'id': 218, 'name': 'Bundesliga', 'type': 'League', 'logo': 'https://media.api-sports.io/football/leagues/218.png', 'country': 'Austria', 'last_season_id': 2023}\n"
     ]
    }
   ],
   "source": [
    "# Abfrage der Bundesliga in AT von der MongoDB\n",
    "for x in db.api_football_com_leagues.find({\"name\": \"Bundesliga\", \"country\": \"Austria\"}):\n",
    "  print(x) "
   ]
  },
  {
   "cell_type": "code",
   "execution_count": 12,
   "id": "0f14b56e-c696-4eaa-8931-68ec0fd0be63",
   "metadata": {
    "tags": []
   },
   "outputs": [],
   "source": [
    "# Funktion zur Extraktion der Daten aller Teams, einer bestimmten Saison, einer bestimmten Liga\n",
    "def extract_teams_league_season_data(league_id, season_id):\n",
    "    teams_league_season_data = fetch_data(f\"/teams?league=\" + str(league_id) + \"&season=\" + str(season_id))    \n",
    "    return teams_league_season_data"
   ]
  },
  {
   "cell_type": "code",
   "execution_count": 18,
   "id": "4dcf8d43-2cde-4058-ac71-e611e41d2c05",
   "metadata": {},
   "outputs": [
    {
     "name": "stdout",
     "output_type": "stream",
     "text": [
      "{'team': {'id': 571, 'name': 'Red Bull Salzburg', 'code': 'SAL', 'country': 'Austria', 'founded': 1933, 'national': False, 'logo': 'https://media.api-sports.io/football/teams/571.png'}, 'venue': {'id': 148, 'name': 'Red Bull Arena', 'address': 'Stadionstrasse 2/3', 'city': 'Wals-Siezenheim', 'capacity': 31895, 'surface': 'grass', 'image': 'https://media.api-sports.io/football/venues/148.png'}}\n"
     ]
    }
   ],
   "source": [
    "current_austrian_bundesliga_teams = extract_teams_league_season_data(218, 2023)\n",
    "\n",
    "print(current_austrian_bundesliga_teams[\"response\"][0])"
   ]
  },
  {
   "cell_type": "code",
   "execution_count": 19,
   "id": "8ce53267-08d9-4f47-a06c-57983ef2906c",
   "metadata": {},
   "outputs": [
    {
     "name": "stdout",
     "output_type": "stream",
     "text": [
      "{'team': {'id': 571, 'name': 'Red Bull Salzburg', 'code': 'SAL', 'country': 'Austria', 'founded': 1933, 'national': False, 'logo': 'https://media.api-sports.io/football/teams/571.png'}, 'venue': {'id': 148, 'name': 'Red Bull Arena', 'address': 'Stadionstrasse 2/3', 'city': 'Wals-Siezenheim', 'capacity': 31895, 'surface': 'grass', 'image': 'https://media.api-sports.io/football/venues/148.png'}, 'league_id': 218, 'season_id': 2023}\n"
     ]
    }
   ],
   "source": [
    "current_austrian_bundesliga_teams = current_austrian_bundesliga_teams[\"response\"]\n",
    "\n",
    "for current_austrian_bundesliga_team in current_austrian_bundesliga_teams:\n",
    "    current_austrian_bundesliga_team[\"league_id\"] = 218\n",
    "    current_austrian_bundesliga_team[\"season_id\"] = 2023\n",
    "    \n",
    "print(current_austrian_bundesliga_teams[0])"
   ]
  },
  {
   "cell_type": "code",
   "execution_count": 23,
   "id": "a8b29f9c-3b1e-41dc-9a3d-01f699f8dea2",
   "metadata": {
    "tags": []
   },
   "outputs": [
    {
     "name": "stdout",
     "output_type": "stream",
     "text": [
      "team_id: 571 | team_name: Red Bull Salzburg | inserted_id: 66258d8b8fec5c65f04fe91a\n",
      "team_id: 601 | team_name: Austria Vienna | inserted_id: 66258d8b8fec5c65f04fe91b\n",
      "team_id: 618 | team_name: SCR Altach | inserted_id: 66258d8b8fec5c65f04fe91c\n",
      "team_id: 637 | team_name: Sturm Graz | inserted_id: 66258d8b8fec5c65f04fe91d\n",
      "team_id: 781 | team_name: Rapid Vienna | inserted_id: 66258d8b8fec5c65f04fe91e\n",
      "team_id: 1025 | team_name: Wolfsberger AC | inserted_id: 66258d8b8fec5c65f04fe91f\n",
      "team_id: 1026 | team_name: Lask Linz | inserted_id: 66258d8b8fec5c65f04fe920\n",
      "team_id: 1072 | team_name: TSV Hartberg | inserted_id: 66258d8b8fec5c65f04fe921\n",
      "team_id: 1394 | team_name: FC BW Linz | inserted_id: 66258d8b8fec5c65f04fe922\n",
      "team_id: 1398 | team_name: WSG Wattens | inserted_id: 66258d8c8fec5c65f04fe923\n",
      "team_id: 1399 | team_name: Austria Lustenau | inserted_id: 66258d8c8fec5c65f04fe924\n",
      "team_id: 1405 | team_name: Austria Klagenfurt | inserted_id: 66258d8c8fec5c65f04fe925\n"
     ]
    }
   ],
   "source": [
    "for t in current_austrian_bundesliga_teams:\n",
    "    insert_result = insert_one_to_database(t, \"api_football_com_leagues_seasons_teams\")\n",
    "    team = t[\"team\"]\n",
    "    print(\"team_id:\", team[\"id\"], \"| team_name:\", team[\"name\"], \"| inserted_id:\", insert_result.inserted_id)"
   ]
  },
  {
   "cell_type": "code",
   "execution_count": 26,
   "id": "0d725979-e06d-4e6e-8b6b-d9a72a3f3d55",
   "metadata": {},
   "outputs": [
    {
     "name": "stdout",
     "output_type": "stream",
     "text": [
      "{'_id': ObjectId('66258d8b8fec5c65f04fe91a'), 'team': {'id': 571, 'name': 'Red Bull Salzburg', 'code': 'SAL', 'country': 'Austria', 'founded': 1933, 'national': False, 'logo': 'https://media.api-sports.io/football/teams/571.png'}, 'venue': {'id': 148, 'name': 'Red Bull Arena', 'address': 'Stadionstrasse 2/3', 'city': 'Wals-Siezenheim', 'capacity': 31895, 'surface': 'grass', 'image': 'https://media.api-sports.io/football/venues/148.png'}, 'league_id': 218, 'season_id': 2023}\n",
      "{'_id': ObjectId('66258d8b8fec5c65f04fe91b'), 'team': {'id': 601, 'name': 'Austria Vienna', 'code': 'AUS', 'country': 'Austria', 'founded': 1911, 'national': False, 'logo': 'https://media.api-sports.io/football/teams/601.png'}, 'venue': {'id': 136, 'name': 'Generali Arena', 'address': 'Fischhofgasse 14', 'city': 'Wien', 'capacity': 18944, 'surface': 'grass', 'image': 'https://media.api-sports.io/football/venues/136.png'}, 'league_id': 218, 'season_id': 2023}\n",
      "{'_id': ObjectId('66258d8b8fec5c65f04fe91c'), 'team': {'id': 618, 'name': 'SCR Altach', 'code': 'ALT', 'country': 'Austria', 'founded': 1929, 'national': False, 'logo': 'https://media.api-sports.io/football/teams/618.png'}, 'venue': {'id': 146, 'name': 'CASHPOINT Arena', 'address': 'Schnabelholz 1', 'city': 'Altach', 'capacity': 8500, 'surface': 'grass', 'image': 'https://media.api-sports.io/football/venues/146.png'}, 'league_id': 218, 'season_id': 2023}\n",
      "{'_id': ObjectId('66258d8b8fec5c65f04fe91d'), 'team': {'id': 637, 'name': 'Sturm Graz', 'code': 'STU', 'country': 'Austria', 'founded': 1909, 'national': False, 'logo': 'https://media.api-sports.io/football/teams/637.png'}, 'venue': {'id': 150, 'name': 'Merkur Arena', 'address': 'Stadionplatz 1 A', 'city': 'Graz', 'capacity': 16764, 'surface': 'grass', 'image': 'https://media.api-sports.io/football/venues/150.png'}, 'league_id': 218, 'season_id': 2023}\n",
      "{'_id': ObjectId('66258d8b8fec5c65f04fe91e'), 'team': {'id': 781, 'name': 'Rapid Vienna', 'code': 'RAP', 'country': 'Austria', 'founded': 1899, 'national': False, 'logo': 'https://media.api-sports.io/football/teams/781.png'}, 'venue': {'id': 145, 'name': 'Allianz Stadion', 'address': 'Gerhard Hanappi Platz 1, Hütteldorf', 'city': 'Wien', 'capacity': 28345, 'surface': 'grass', 'image': 'https://media.api-sports.io/football/venues/145.png'}, 'league_id': 218, 'season_id': 2023}\n",
      "{'_id': ObjectId('66258d8b8fec5c65f04fe91f'), 'team': {'id': 1025, 'name': 'Wolfsberger AC', 'code': 'WOL', 'country': 'Austria', 'founded': 1931, 'national': False, 'logo': 'https://media.api-sports.io/football/teams/1025.png'}, 'venue': {'id': 1761, 'name': 'Lavanttal Arena', 'address': 'Don-Bosco-Weg 1', 'city': 'Wolfsberg', 'capacity': 9000, 'surface': 'grass', 'image': 'https://media.api-sports.io/football/venues/1761.png'}, 'league_id': 218, 'season_id': 2023}\n",
      "{'_id': ObjectId('66258d8b8fec5c65f04fe920'), 'team': {'id': 1026, 'name': 'Lask Linz', 'code': 'LAS', 'country': 'Austria', 'founded': 1908, 'national': False, 'logo': 'https://media.api-sports.io/football/teams/1026.png'}, 'venue': {'id': 143, 'name': 'Raiffeisen Arena', 'address': 'Ziegeleistraße 76, Froschberg', 'city': 'Linz', 'capacity': 19080, 'surface': 'grass', 'image': 'https://media.api-sports.io/football/venues/143.png'}, 'league_id': 218, 'season_id': 2023}\n",
      "{'_id': ObjectId('66258d8b8fec5c65f04fe921'), 'team': {'id': 1072, 'name': 'TSV Hartberg', 'code': 'HAR', 'country': 'Austria', 'founded': 1946, 'national': False, 'logo': 'https://media.api-sports.io/football/teams/1072.png'}, 'venue': {'id': 140, 'name': 'PROfertil ARENA', 'address': 'Stefan-Seedoch-Allee 26', 'city': 'Hartberg', 'capacity': 5420, 'surface': 'grass', 'image': 'https://media.api-sports.io/football/venues/140.png'}, 'league_id': 218, 'season_id': 2023}\n",
      "{'_id': ObjectId('66258d8b8fec5c65f04fe922'), 'team': {'id': 1394, 'name': 'FC BW Linz', 'code': 'LIN', 'country': 'Austria', 'founded': 1997, 'national': False, 'logo': 'https://media.api-sports.io/football/teams/1394.png'}, 'venue': {'id': 11873, 'name': 'Hofmann Personal Stadion', 'address': 'Straßerau 3', 'city': 'Linz', 'capacity': 5600, 'surface': 'grass', 'image': 'https://media.api-sports.io/football/venues/11873.png'}, 'league_id': 218, 'season_id': 2023}\n",
      "{'_id': ObjectId('66258d8c8fec5c65f04fe923'), 'team': {'id': 1398, 'name': 'WSG Wattens', 'code': 'WAT', 'country': 'Austria', 'founded': 1930, 'national': False, 'logo': 'https://media.api-sports.io/football/teams/1398.png'}, 'venue': {'id': 152, 'name': 'Tivoli Stadion Tirol', 'address': 'Stadionstrasse 1b', 'city': 'Innsbruck', 'capacity': 16008, 'surface': 'grass', 'image': 'https://media.api-sports.io/football/venues/152.png'}, 'league_id': 218, 'season_id': 2023}\n",
      "{'_id': ObjectId('66258d8c8fec5c65f04fe924'), 'team': {'id': 1399, 'name': 'Austria Lustenau', 'code': 'LUS', 'country': 'Austria', 'founded': 1914, 'national': False, 'logo': 'https://media.api-sports.io/football/teams/1399.png'}, 'venue': {'id': 135, 'name': 'Planet Pure Stadion', 'address': 'Schützengartenstraße 21', 'city': 'Lustenau', 'capacity': 8800, 'surface': 'grass', 'image': 'https://media.api-sports.io/football/venues/135.png'}, 'league_id': 218, 'season_id': 2023}\n",
      "{'_id': ObjectId('66258d8c8fec5c65f04fe925'), 'team': {'id': 1405, 'name': 'Austria Klagenfurt', 'code': None, 'country': 'Austria', 'founded': None, 'national': False, 'logo': 'https://media.api-sports.io/football/teams/1405.png'}, 'venue': {'id': 19258, 'name': '28 Black Arena', 'address': 'Südring 207', 'city': 'Klagenfurt am Wörthersee', 'capacity': 32000, 'surface': 'grass', 'image': 'https://media.api-sports.io/football/venues/19258.png'}, 'league_id': 218, 'season_id': 2023}\n"
     ]
    }
   ],
   "source": [
    "# Abfrage der Teams der Bundesliga in AT von der MongoDB\n",
    "for x in db.api_football_com_leagues_seasons_teams.find({\"league_id\": 218, \"season_id\": 2023}):\n",
    "  print(x) "
   ]
  },
  {
   "cell_type": "code",
   "execution_count": 7,
   "id": "18b3f2f5-1e61-484e-b354-0d7da7b3b464",
   "metadata": {
    "tags": []
   },
   "outputs": [],
   "source": [
    "# Funktion zur Extraktion von Daten über ein bestimmtes Team, einer bestimmten Saison, einer bestimmten Liga\n",
    "def extract_team_data(season_id, team_id, league_id):\n",
    "    team_data = fetch_data(f\"/teams/statistics?season=\" + str(season_id) + \"&team=\" + str(team_id) + \"&league=\" + str(league_id))\n",
    "    #top_scorers = scorers_data[\"scorers\"][:num_players]  # Die ersten num_players Top-Torschützen\n",
    "    return team_data"
   ]
  },
  {
   "cell_type": "code",
   "execution_count": 7,
   "id": "93ed9308-82ad-41f1-86a7-306ec38d7fcf",
   "metadata": {
    "tags": []
   },
   "outputs": [
    {
     "name": "stdout",
     "output_type": "stream",
     "text": [
      "{'get': 'teams/statistics', 'parameters': {'season': '2019', 'team': '33', 'league': '39'}, 'errors': [], 'results': 11, 'paging': {'current': 1, 'total': 1}, 'response': {'league': {'id': 39, 'name': 'Premier League', 'country': 'England', 'logo': 'https://media.api-sports.io/football/leagues/39.png', 'flag': 'https://media.api-sports.io/flags/gb.svg', 'season': 2019}, 'team': {'id': 33, 'name': 'Manchester United', 'logo': 'https://media.api-sports.io/football/teams/33.png'}, 'form': 'WDLDWLDLDWLWDDWWDLWWLWLLDWWDWDWWWWDWDW', 'fixtures': {'played': {'home': 19, 'away': 19, 'total': 38}, 'wins': {'home': 10, 'away': 8, 'total': 18}, 'draws': {'home': 7, 'away': 5, 'total': 12}, 'loses': {'home': 2, 'away': 6, 'total': 8}}, 'goals': {'for': {'total': {'home': 40, 'away': 26, 'total': 66}, 'average': {'home': '2.1', 'away': '1.4', 'total': '1.7'}, 'minute': {'0-15': {'total': 4, 'percentage': '6.06%'}, '16-30': {'total': 17, 'percentage': '25.76%'}, '31-45': {'total': 11, 'percentage': '16.67%'}, '46-60': {'total': 13, 'percentage': '19.70%'}, '61-75': {'total': 10, 'percentage': '15.15%'}, '76-90': {'total': 8, 'percentage': '12.12%'}, '91-105': {'total': 3, 'percentage': '4.55%'}, '106-120': {'total': None, 'percentage': None}}}, 'against': {'total': {'home': 17, 'away': 19, 'total': 36}, 'average': {'home': '0.9', 'away': '1.0', 'total': '0.9'}, 'minute': {'0-15': {'total': 6, 'percentage': '16.67%'}, '16-30': {'total': 3, 'percentage': '8.33%'}, '31-45': {'total': 7, 'percentage': '19.44%'}, '46-60': {'total': 9, 'percentage': '25.00%'}, '61-75': {'total': 3, 'percentage': '8.33%'}, '76-90': {'total': 5, 'percentage': '13.89%'}, '91-105': {'total': 3, 'percentage': '8.33%'}, '106-120': {'total': None, 'percentage': None}}}}, 'biggest': {'streak': {'wins': 4, 'draws': 2, 'loses': 2}, 'wins': {'home': '4-0', 'away': '0-3'}, 'loses': {'home': '0-2', 'away': '2-0'}, 'goals': {'for': {'home': 5, 'away': 3}, 'against': {'home': 2, 'away': 3}}}, 'clean_sheet': {'home': 7, 'away': 6, 'total': 13}, 'failed_to_score': {'home': 2, 'away': 6, 'total': 8}, 'penalty': {'scored': {'total': 10, 'percentage': '100.00%'}, 'missed': {'total': 0, 'percentage': '0%'}, 'total': 10}, 'lineups': [{'formation': '4-2-3-1', 'played': 32}, {'formation': '3-4-1-2', 'played': 4}, {'formation': '3-4-2-1', 'played': 1}, {'formation': '4-3-1-2', 'played': 1}], 'cards': {'yellow': {'0-15': {'total': 5, 'percentage': '6.85%'}, '16-30': {'total': 5, 'percentage': '6.85%'}, '31-45': {'total': 16, 'percentage': '21.92%'}, '46-60': {'total': 12, 'percentage': '16.44%'}, '61-75': {'total': 14, 'percentage': '19.18%'}, '76-90': {'total': 21, 'percentage': '28.77%'}, '91-105': {'total': None, 'percentage': None}, '106-120': {'total': None, 'percentage': None}}, 'red': {'0-15': {'total': None, 'percentage': None}, '16-30': {'total': None, 'percentage': None}, '31-45': {'total': None, 'percentage': None}, '46-60': {'total': None, 'percentage': None}, '61-75': {'total': None, 'percentage': None}, '76-90': {'total': None, 'percentage': None}, '91-105': {'total': None, 'percentage': None}, '106-120': {'total': None, 'percentage': None}}}}}\n"
     ]
    }
   ],
   "source": [
    "team = extract_team_data(2019, 33, 39)\n",
    "print(team)"
   ]
  },
  {
   "cell_type": "code",
   "execution_count": 31,
   "id": "eed75185-8e41-457f-8a7c-29bb85415cc1",
   "metadata": {
    "tags": []
   },
   "outputs": [],
   "source": [
    "# Funktion zur Extraktion von Daten der Spieler eines Teams\n",
    "def extract_squad_data(team_id):\n",
    "    squad_data = fetch_data(f\"/players/squads?team=\" + str(team_id))\n",
    "    #top_scorers = scorers_data[\"scorers\"][:num_players]  # Die ersten num_players Top-Torschützen\n",
    "    return squad_data"
   ]
  },
  {
   "cell_type": "code",
   "execution_count": 32,
   "id": "189fc24c-dd64-4665-bcdb-03b2f7bf02a3",
   "metadata": {
    "tags": []
   },
   "outputs": [],
   "source": [
    "squad = extract_squad_data(33)"
   ]
  },
  {
   "cell_type": "code",
   "execution_count": null,
   "id": "495ca056-5389-440f-ac92-803d751e1677",
   "metadata": {
    "tags": []
   },
   "outputs": [],
   "source": [
    "#print(type(squad))\n",
    "#print(type(squad[\"response\"]))\n",
    "#print(len(squad[\"response\"]))\n",
    "\n",
    "man_united_squad = squad[\"response\"][0]\n",
    "print(type(man_united_squad))\n",
    "print(man_united_squad)"
   ]
  },
  {
   "cell_type": "code",
   "execution_count": 150,
   "id": "39328bcf-215e-42ba-bab2-6a2668b75846",
   "metadata": {},
   "outputs": [
    {
     "name": "stdout",
     "output_type": "stream",
     "text": [
      "        id           name  age  number    position  \\\n",
      "0    25198     M. Knaller   36       1  Goalkeeper   \n",
      "1    25395      P. Menzel   25      13  Goalkeeper   \n",
      "2   169541    D. Puntigam   20      30  Goalkeeper   \n",
      "3   162116      S. Bonnah   20       2    Defender   \n",
      "4   426111   M. Dollinger   18       3    Defender   \n",
      "5    46084       N. Đorić   23       4    Defender   \n",
      "6     7290      K. Gkezos   31       8    Defender   \n",
      "7   128822     S. Straudi   24      17    Defender   \n",
      "8     7647      T. Mahrer   33      31    Defender   \n",
      "9    66139  T. Schumacher   26      33    Defender   \n",
      "10  384968    J. Robatsch   19      34    Defender   \n",
      "11    7506      N. Wimmer   28      37    Defender   \n",
      "12  425347  B. Kujrakovic   17       5  Midfielder   \n",
      "13  202776       A. Loune   21       6  Midfielder   \n",
      "14    7212      C. Cvetko   26      14  Midfielder   \n",
      "15   68466      A. Irving   23      19  Midfielder   \n",
      "16   25127   R. Benatelli   31      20  Midfielder   \n",
      "17    8960  M. Besuschkow   26      23  Midfielder   \n",
      "18    7567  C. Wernitznig   33      24  Midfielder   \n",
      "19  375593     A. Schwarz   19      77  Midfielder   \n",
      "20  120120    F. Markelic   22      92  Midfielder   \n",
      "21    7303      F. Jaritz   26       7    Attacker   \n",
      "22  169446      N. Binder   21       9    Attacker   \n",
      "23   26550    S. Karweina   24      10    Attacker   \n",
      "24   25393        S. Soto   23      11    Attacker   \n",
      "25   92952    J. Arweiler   26      39    Attacker   \n",
      "26   12466     A. Maglica   32      99    Attacker   \n",
      "\n",
      "                                                photo  \n",
      "0   https://media.api-sports.io/football/players/2...  \n",
      "1   https://media.api-sports.io/football/players/2...  \n",
      "2   https://media.api-sports.io/football/players/1...  \n",
      "3   https://media.api-sports.io/football/players/1...  \n",
      "4   https://media.api-sports.io/football/players/4...  \n",
      "5   https://media.api-sports.io/football/players/4...  \n",
      "6   https://media.api-sports.io/football/players/7...  \n",
      "7   https://media.api-sports.io/football/players/1...  \n",
      "8   https://media.api-sports.io/football/players/7...  \n",
      "9   https://media.api-sports.io/football/players/6...  \n",
      "10  https://media.api-sports.io/football/players/3...  \n",
      "11  https://media.api-sports.io/football/players/7...  \n",
      "12  https://media.api-sports.io/football/players/4...  \n",
      "13  https://media.api-sports.io/football/players/2...  \n",
      "14  https://media.api-sports.io/football/players/7...  \n",
      "15  https://media.api-sports.io/football/players/6...  \n",
      "16  https://media.api-sports.io/football/players/2...  \n",
      "17  https://media.api-sports.io/football/players/8...  \n",
      "18  https://media.api-sports.io/football/players/7...  \n",
      "19  https://media.api-sports.io/football/players/3...  \n",
      "20  https://media.api-sports.io/football/players/1...  \n",
      "21  https://media.api-sports.io/football/players/7...  \n",
      "22  https://media.api-sports.io/football/players/1...  \n",
      "23  https://media.api-sports.io/football/players/2...  \n",
      "24  https://media.api-sports.io/football/players/2...  \n",
      "25  https://media.api-sports.io/football/players/9...  \n",
      "26  https://media.api-sports.io/football/players/1...  \n",
      "average age: 24.925925925925927\n"
     ]
    }
   ],
   "source": [
    "# Create DataFrame\n",
    "df = pd.DataFrame(squad[\"response\"][0][\"players\"])\n",
    "\n",
    "# Print DataFrame\n",
    "print(df)\n",
    "\n",
    "from statistics import mean\n",
    "\n",
    "# Mittelwert des Alters der Spieler ausgeben\n",
    "print(\"average age:\", mean(df[\"age\"]))"
   ]
  },
  {
   "cell_type": "code",
   "execution_count": 145,
   "id": "36c78714-4ee9-4492-93c6-93e5db8baa06",
   "metadata": {
    "tags": []
   },
   "outputs": [
    {
     "name": "stdout",
     "output_type": "stream",
     "text": [
      "{'team': {'id': 33, 'name': 'Manchester United', 'logo': 'https://media.api-sports.io/football/teams/33.png'}, 'players': [{'id': 50132, 'name': 'A. Bayındır', 'age': 25, 'number': 1, 'position': 'Goalkeeper', 'photo': 'https://media.api-sports.io/football/players/50132.png'}, {'id': 2931, 'name': 'T. Heaton', 'age': 37, 'number': 22, 'position': 'Goalkeeper', 'photo': 'https://media.api-sports.io/football/players/2931.png'}, {'id': 526, 'name': 'A. Onana', 'age': 27, 'number': 24, 'position': 'Goalkeeper', 'photo': 'https://media.api-sports.io/football/players/526.png'}, {'id': 284382, 'name': 'Dermot William Mee', 'age': 21, 'number': 45, 'position': 'Goalkeeper', 'photo': 'https://media.api-sports.io/football/players/284382.png'}, {'id': 889, 'name': 'V. Lindelöf', 'age': 29, 'number': 2, 'position': 'Defender', 'photo': 'https://media.api-sports.io/football/players/889.png'}, {'id': 2935, 'name': 'H. Maguire', 'age': 30, 'number': 5, 'position': 'Defender', 'photo': 'https://media.api-sports.io/football/players/2935.png'}, {'id': 2467, 'name': 'Lisandro Martínez', 'age': 25, 'number': 6, 'position': 'Defender', 'photo': 'https://media.api-sports.io/football/players/2467.png'}, {'id': 37145, 'name': 'T. Malacia', 'age': 24, 'number': 12, 'position': 'Defender', 'photo': 'https://media.api-sports.io/football/players/37145.png'}, {'id': 742, 'name': 'R. Varane', 'age': 30, 'number': 19, 'position': 'Defender', 'photo': 'https://media.api-sports.io/football/players/742.png'}, {'id': 886, 'name': 'Diogo Dalot', 'age': 24, 'number': 20, 'position': 'Defender', 'photo': 'https://media.api-sports.io/football/players/886.png'}, {'id': 891, 'name': 'L. Shaw', 'age': 28, 'number': 23, 'position': 'Defender', 'photo': 'https://media.api-sports.io/football/players/891.png'}, {'id': 18846, 'name': 'A. Wan-Bissaka', 'age': 26, 'number': 29, 'position': 'Defender', 'photo': 'https://media.api-sports.io/football/players/18846.png'}, {'id': 18772, 'name': 'J. Evans', 'age': 35, 'number': 35, 'position': 'Defender', 'photo': 'https://media.api-sports.io/football/players/18772.png'}, {'id': 288112, 'name': 'Willy Kambwala Ndengushi', 'age': 18, 'number': 53, 'position': 'Defender', 'photo': 'https://media.api-sports.io/football/players/288112.png'}, {'id': 403064, 'name': 'H. Amass', 'age': 16, 'number': 70, 'position': 'Defender', 'photo': 'https://media.api-sports.io/football/players/403064.png'}, {'id': 328098, 'name': 'H. Ogunneye', 'age': 18, 'number': 75, 'position': 'Defender', 'photo': 'https://media.api-sports.io/football/players/328098.png'}, {'id': 284363, 'name': 'R. Bennett', 'age': 19, 'number': None, 'position': 'Defender', 'photo': 'https://media.api-sports.io/football/players/284363.png'}, {'id': 74, 'name': 'S. Amrabat', 'age': 27, 'number': 4, 'position': 'Midfielder', 'photo': 'https://media.api-sports.io/football/players/74.png'}, {'id': 19220, 'name': 'M. Mount', 'age': 24, 'number': 7, 'position': 'Midfielder', 'photo': 'https://media.api-sports.io/football/players/19220.png'}, {'id': 1485, 'name': 'Bruno Fernandes', 'age': 29, 'number': 8, 'position': 'Midfielder', 'photo': 'https://media.api-sports.io/football/players/1485.png'}, {'id': 174, 'name': 'C. Eriksen', 'age': 31, 'number': 14, 'position': 'Midfielder', 'photo': 'https://media.api-sports.io/football/players/174.png'}, {'id': 747, 'name': 'Casemiro', 'age': 31, 'number': 18, 'position': 'Midfielder', 'photo': 'https://media.api-sports.io/football/players/747.png'}, {'id': 284322, 'name': 'K. Mainoo', 'age': 18, 'number': 37, 'position': 'Midfielder', 'photo': 'https://media.api-sports.io/football/players/284322.png'}, {'id': 903, 'name': 'S. McTominay', 'age': 27, 'number': 39, 'position': 'Midfielder', 'photo': 'https://media.api-sports.io/football/players/903.png'}, {'id': 284242, 'name': 'O. Forson', 'age': 19, 'number': 62, 'position': 'Midfielder', 'photo': 'https://media.api-sports.io/football/players/284242.png'}, {'id': 284400, 'name': 'Tobias Christopher Collyer', 'age': 19, 'number': 65, 'position': 'Midfielder', 'photo': 'https://media.api-sports.io/football/players/284400.png'}, {'id': 908, 'name': 'A. Martial', 'age': 28, 'number': 9, 'position': 'Attacker', 'photo': 'https://media.api-sports.io/football/players/908.png'}, {'id': 909, 'name': 'M. Rashford', 'age': 26, 'number': 10, 'position': 'Attacker', 'photo': 'https://media.api-sports.io/football/players/909.png'}, {'id': 288006, 'name': 'R. Højlund', 'age': 20, 'number': 11, 'position': 'Attacker', 'photo': 'https://media.api-sports.io/football/players/288006.png'}, {'id': 157997, 'name': 'A. Diallo', 'age': 21, 'number': 16, 'position': 'Attacker', 'photo': 'https://media.api-sports.io/football/players/157997.png'}, {'id': 284324, 'name': 'A. Garnacho', 'age': 19, 'number': 17, 'position': 'Attacker', 'photo': 'https://media.api-sports.io/football/players/284324.png'}, {'id': 9971, 'name': 'Antony', 'age': 23, 'number': 21, 'position': 'Attacker', 'photo': 'https://media.api-sports.io/football/players/9971.png'}, {'id': 163054, 'name': 'S. Shoretire', 'age': 19, 'number': 47, 'position': 'Attacker', 'photo': 'https://media.api-sports.io/football/players/163054.png'}, {'id': 362270, 'name': 'E. Wheatley', 'age': 18, 'number': 84, 'position': 'Attacker', 'photo': 'https://media.api-sports.io/football/players/362270.png'}]}\n"
     ]
    }
   ],
   "source": [
    "print(man_united_squad)"
   ]
  },
  {
   "cell_type": "code",
   "execution_count": 146,
   "id": "fa1d0c15-6952-45ce-a762-59a31ed1c85b",
   "metadata": {
    "tags": []
   },
   "outputs": [
    {
     "data": {
      "text/plain": [
       "InsertOneResult(ObjectId('66243d3074a7545451a67fe0'), acknowledged=True)"
      ]
     },
     "execution_count": 146,
     "metadata": {},
     "output_type": "execute_result"
    }
   ],
   "source": [
    "# Spieler von Manchester United in die collection \"api_football_com_teams_squads\" einfügen\n",
    "\n",
    "insert_one_to_database(man_united_squad, \"api_football_com_teams_squads\")"
   ]
  },
  {
   "cell_type": "code",
   "execution_count": null,
   "id": "0d4414c8-87b8-40fc-99e8-863e0cc97439",
   "metadata": {
    "tags": []
   },
   "outputs": [],
   "source": [
    "db.api_football_com_teams_squads.find_one()"
   ]
  },
  {
   "cell_type": "code",
   "execution_count": null,
   "id": "83fca270-3bd9-4e1a-bd08-2b6e242fc2bf",
   "metadata": {},
   "outputs": [],
   "source": [
    "# Abfrage der Teams der Bundesliga in AT von der MongoDB und jeweils der zugehörigen Mannschaften, um diese auch in die MongoDB zu speichern\n",
    "for x in db.api_football_com_leagues_seasons_teams.find({\"league_id\": 218, \"season_id\": 2023}):\n",
    "    team_id = x[\"team\"][\"id\"]\n",
    "    squad = extract_squad_data(team_id)\n",
    "    insert_result = insert_one_to_database(squad[\"response\"][0], \"api_football_com_teams_squads\")\n",
    "    print(\"team_name:\", x[\"team\"][\"name\"], \"| inserted_id:\", insert_result.inserted_id) "
   ]
  },
  {
   "cell_type": "code",
   "execution_count": 44,
   "id": "669760b2-7f59-4903-ac4d-c110d2447015",
   "metadata": {},
   "outputs": [
    {
     "name": "stdout",
     "output_type": "stream",
     "text": [
      "team_id: 33 team_name: Manchester United\n",
      "team_id: 571 team_name: Red Bull Salzburg\n",
      "team_id: 601 team_name: Austria Vienna\n",
      "team_id: 618 team_name: SCR Altach\n",
      "team_id: 637 team_name: Sturm Graz\n",
      "team_id: 781 team_name: Rapid Vienna\n",
      "team_id: 1025 team_name: Wolfsberger AC\n",
      "team_id: 1026 team_name: Lask Linz\n",
      "team_id: 1072 team_name: TSV Hartberg\n",
      "team_id: 1394 team_name: FC BW Linz\n",
      "team_id: 1398 team_name: WSG Wattens\n",
      "team_id: 1399 team_name: Austria Lustenau\n",
      "team_id: 1405 team_name: Austria Klagenfurt\n"
     ]
    }
   ],
   "source": [
    "# Abfrage der Teams aus der Collection der Mannschaften von der MongoDB\n",
    "for x in db.api_football_com_teams_squads.find():\n",
    "  team = x[\"team\"]\n",
    "  print(\"team_id:\", team[\"id\"], \"team_name:\", team[\"name\"])"
   ]
  },
  {
   "cell_type": "code",
   "execution_count": 9,
   "id": "55f569a3-bb28-4204-99cf-518d5c8cb09c",
   "metadata": {
    "tags": []
   },
   "outputs": [],
   "source": [
    "# Funktion zur Extraktion von Daten über einen bestimmten Spieler in einer bestimmten Saison\n",
    "def extract_player_data(player_id, season_id):\n",
    "    player_data = fetch_data(f\"/players?id=\" + str(player_id) + \"&season=\" + str(season_id))    \n",
    "    return player_data"
   ]
  },
  {
   "cell_type": "code",
   "execution_count": 18,
   "id": "4139dd08-b389-429c-b636-cd9ba54ca595",
   "metadata": {
    "tags": []
   },
   "outputs": [
    {
     "name": "stdout",
     "output_type": "stream",
     "text": [
      "{'get': 'players', 'parameters': {'id': '2467', 'season': '2023'}, 'errors': [], 'results': 1, 'paging': {'current': 1, 'total': 1}, 'response': [{'player': {'id': 2467, 'name': 'Lisandro Martínez', 'firstname': 'Lisandro', 'lastname': 'Martínez', 'age': 26, 'birth': {'date': '1998-01-18', 'place': 'Gualeguay', 'country': 'Argentina'}, 'nationality': 'Argentina', 'height': '175 cm', 'weight': '77 kg', 'injured': False, 'photo': 'https://media.api-sports.io/football/players/2467.png'}, 'statistics': [{'team': {'id': 33, 'name': 'Manchester United', 'logo': 'https://media.api-sports.io/football/teams/33.png'}, 'league': {'id': 39, 'name': 'Premier League', 'country': 'England', 'logo': 'https://media.api-sports.io/football/leagues/39.png', 'flag': 'https://media.api-sports.io/flags/gb.svg', 'season': 2023}, 'games': {'appearences': 9, 'lineups': 7, 'minutes': 583, 'number': None, 'position': 'Defender', 'rating': '6.588888', 'captain': False}, 'substitutes': {'in': 2, 'out': 5, 'bench': 2}, 'shots': {'total': None, 'on': None}, 'goals': {'total': 0, 'conceded': 0, 'assists': 1, 'saves': None}, 'passes': {'total': 401, 'key': 3, 'accuracy': 41}, 'tackles': {'total': 11, 'blocks': 7, 'interceptions': 4}, 'duels': {'total': 40, 'won': 18}, 'dribbles': {'attempts': 3, 'success': 2, 'past': None}, 'fouls': {'drawn': 2, 'committed': 6}, 'cards': {'yellow': 3, 'yellowred': 0, 'red': 0}, 'penalty': {'won': None, 'commited': None, 'scored': 0, 'missed': 0, 'saved': None}}, {'team': {'id': 33, 'name': 'Manchester United', 'logo': 'https://media.api-sports.io/football/teams/33.png'}, 'league': {'id': 48, 'name': 'League Cup', 'country': 'England', 'logo': 'https://media.api-sports.io/football/leagues/48.png', 'flag': 'https://media.api-sports.io/flags/gb.svg', 'season': 2023}, 'games': {'appearences': 0, 'lineups': 0, 'minutes': 0, 'number': None, 'position': 'Defender', 'rating': None, 'captain': False}, 'substitutes': {'in': 0, 'out': 0, 'bench': 0}, 'shots': {'total': None, 'on': None}, 'goals': {'total': 0, 'conceded': None, 'assists': None, 'saves': None}, 'passes': {'total': None, 'key': None, 'accuracy': None}, 'tackles': {'total': None, 'blocks': None, 'interceptions': None}, 'duels': {'total': None, 'won': None}, 'dribbles': {'attempts': None, 'success': None, 'past': None}, 'fouls': {'drawn': None, 'committed': None}, 'cards': {'yellow': 0, 'yellowred': 0, 'red': 0}, 'penalty': {'won': None, 'commited': None, 'scored': None, 'missed': None, 'saved': None}}, {'team': {'id': 33, 'name': 'Manchester United', 'logo': 'https://media.api-sports.io/football/teams/33.png'}, 'league': {'id': 45, 'name': 'FA Cup', 'country': 'England', 'logo': 'https://media.api-sports.io/football/leagues/45.png', 'flag': 'https://media.api-sports.io/flags/gb.svg', 'season': 2023}, 'games': {'appearences': 1, 'lineups': 1, 'minutes': 89, 'number': None, 'position': 'Defender', 'rating': '7.000000', 'captain': False}, 'substitutes': {'in': 0, 'out': 1, 'bench': 0}, 'shots': {'total': None, 'on': None}, 'goals': {'total': 0, 'conceded': 0, 'assists': None, 'saves': None}, 'passes': {'total': 74, 'key': 1, 'accuracy': 65}, 'tackles': {'total': 2, 'blocks': 1, 'interceptions': None}, 'duels': {'total': 3, 'won': 3}, 'dribbles': {'attempts': None, 'success': None, 'past': None}, 'fouls': {'drawn': None, 'committed': None}, 'cards': {'yellow': 0, 'yellowred': 0, 'red': 0}, 'penalty': {'won': None, 'commited': None, 'scored': 0, 'missed': 0, 'saved': None}}, {'team': {'id': 33, 'name': 'Manchester United', 'logo': 'https://media.api-sports.io/football/teams/33.png'}, 'league': {'id': 2, 'name': 'UEFA Champions League', 'country': 'World', 'logo': 'https://media.api-sports.io/football/leagues/2.png', 'flag': None, 'season': 2023}, 'games': {'appearences': 1, 'lineups': 1, 'minutes': 90, 'number': None, 'position': 'Defender', 'rating': None, 'captain': False}, 'substitutes': {'in': 0, 'out': 0, 'bench': 0}, 'shots': {'total': None, 'on': None}, 'goals': {'total': 0, 'conceded': None, 'assists': None, 'saves': None}, 'passes': {'total': None, 'key': None, 'accuracy': None}, 'tackles': {'total': None, 'blocks': None, 'interceptions': None}, 'duels': {'total': None, 'won': None}, 'dribbles': {'attempts': None, 'success': None, 'past': None}, 'fouls': {'drawn': None, 'committed': None}, 'cards': {'yellow': 1, 'yellowred': 0, 'red': 0}, 'penalty': {'won': None, 'commited': None, 'scored': None, 'missed': None, 'saved': None}}, {'team': {'id': 33, 'name': 'Manchester United', 'logo': 'https://media.api-sports.io/football/teams/33.png'}, 'league': {'id': 667, 'name': 'Friendlies Clubs', 'country': 'World', 'logo': 'https://media.api-sports.io/football/leagues/667.png', 'flag': None, 'season': 2023}, 'games': {'appearences': 6, 'lineups': 5, 'minutes': 319, 'number': None, 'position': 'Defender', 'rating': None, 'captain': False}, 'substitutes': {'in': 1, 'out': 4, 'bench': 1}, 'shots': {'total': None, 'on': None}, 'goals': {'total': 0, 'conceded': None, 'assists': None, 'saves': None}, 'passes': {'total': None, 'key': None, 'accuracy': None}, 'tackles': {'total': None, 'blocks': None, 'interceptions': None}, 'duels': {'total': None, 'won': None}, 'dribbles': {'attempts': None, 'success': None, 'past': None}, 'fouls': {'drawn': None, 'committed': None}, 'cards': {'yellow': 2, 'yellowred': 0, 'red': 0}, 'penalty': {'won': None, 'commited': None, 'scored': None, 'missed': None, 'saved': None}}, {'team': {'id': 26, 'name': 'Argentina', 'logo': 'https://media.api-sports.io/football/teams/26.png'}, 'league': {'id': 10, 'name': 'Friendlies', 'country': 'World', 'logo': 'https://media.api-sports.io/football/leagues/10.png', 'flag': None, 'season': 2023}, 'games': {'appearences': 1, 'lineups': 0, 'minutes': 44, 'number': None, 'position': 'Defender', 'rating': None, 'captain': False}, 'substitutes': {'in': 1, 'out': 0, 'bench': 2}, 'shots': {'total': None, 'on': None}, 'goals': {'total': 0, 'conceded': None, 'assists': None, 'saves': None}, 'passes': {'total': None, 'key': None, 'accuracy': None}, 'tackles': {'total': None, 'blocks': None, 'interceptions': None}, 'duels': {'total': None, 'won': None}, 'dribbles': {'attempts': None, 'success': None, 'past': None}, 'fouls': {'drawn': None, 'committed': None}, 'cards': {'yellow': 0, 'yellowred': 0, 'red': 0}, 'penalty': {'won': None, 'commited': None, 'scored': None, 'missed': None, 'saved': None}}]}]}\n"
     ]
    }
   ],
   "source": [
    "player = extract_player_data(2467, 2023)\n",
    "print(player)"
   ]
  },
  {
   "cell_type": "code",
   "execution_count": 7,
   "id": "a7d57e13-5cf2-468c-b68b-6261b38798f5",
   "metadata": {
    "tags": []
   },
   "outputs": [],
   "source": [
    "# Funktion zur Extraktion von Daten über den Tabellenstand einer bestimmten Liga, einer bestimmten Saison, eines bestimmten Teams\n",
    "def extract_standing_data(league_id, season_id, team_id):\n",
    "    standing_data = fetch_data(f\"/standings?league=\" + str(league_id) + \"&season=\" + str(season_id) + \"&team=\" + str(team_id))\n",
    "    #top_scorers = scorers_data[\"scorers\"][:num_players]  # Die ersten num_players Top-Torschützen\n",
    "    return standing_data"
   ]
  },
  {
   "cell_type": "code",
   "execution_count": 8,
   "id": "7f42f144-b7ff-4d90-a057-1e3a2d8a7ef4",
   "metadata": {},
   "outputs": [
    {
     "name": "stdout",
     "output_type": "stream",
     "text": [
      "{'get': 'standings', 'parameters': {'league': '39', 'season': '2023', 'team': '33'}, 'errors': [], 'results': 1, 'paging': {'current': 1, 'total': 1}, 'response': [{'league': {'id': 39, 'name': 'Premier League', 'country': 'England', 'logo': 'https://media.api-sports.io/football/leagues/39.png', 'flag': 'https://media.api-sports.io/flags/gb.svg', 'season': 2023, 'standings': [[{'rank': 7, 'team': {'id': 33, 'name': 'Manchester United', 'logo': 'https://media.api-sports.io/football/teams/33.png'}, 'points': 50, 'goalsDiff': -1, 'group': 'Premier League', 'form': 'DDLDW', 'status': 'same', 'description': None, 'all': {'played': 32, 'win': 15, 'draw': 5, 'lose': 12, 'goals': {'for': 47, 'against': 48}}, 'home': {'played': 15, 'win': 8, 'draw': 2, 'lose': 5, 'goals': {'for': 23, 'against': 22}}, 'away': {'played': 17, 'win': 7, 'draw': 3, 'lose': 7, 'goals': {'for': 24, 'against': 26}}, 'update': '2024-04-21T00:00:00+00:00'}]]}}]}\n"
     ]
    }
   ],
   "source": [
    "standing = extract_standing_data(39, 2023, 33)\n",
    "print(standing)"
   ]
  },
  {
   "cell_type": "code",
   "execution_count": 66,
   "id": "c5d97a63-fc06-4db1-8f85-ec9089873696",
   "metadata": {
    "tags": []
   },
   "outputs": [],
   "source": [
    "# Funktion zur Extraktion von Daten über den Tabellenstand einer bestimmten Liga, einer bestimmten Saison\n",
    "def extract_standings_data(league_id, season_id):\n",
    "    standings_data = fetch_data(f\"/standings?league=\" + str(league_id) + \"&season=\" + str(season_id))\n",
    "    #top_scorers = scorers_data[\"scorers\"][:num_players]  # Die ersten num_players Top-Torschützen\n",
    "    return standings_data"
   ]
  },
  {
   "cell_type": "code",
   "execution_count": null,
   "id": "3bf33bd8-501d-432c-8fca-83d934fa63d0",
   "metadata": {
    "tags": []
   },
   "outputs": [],
   "source": [
    "standings = extract_standings_data(39, 2023)\n",
    "\n",
    "print(type(standings[\"response\"]))\n",
    "print(len(standings[\"response\"]))\n",
    "print(type(standings[\"response\"][0]))\n",
    "print(standings[\"response\"][0])\n",
    "\n",
    "standings = standings[\"response\"][0][\"league\"][\"standings\"]\n",
    "print(type(standings))\n",
    "print(len(standings))\n",
    "\n",
    "for standing in standings[0]:    \n",
    "    print(\"rank:\", standing[\"rank\"], \"| team_id:\", standing[\"team\"][\"id\"], \"| team_name:\", standing[\"team\"][\"name\"])"
   ]
  },
  {
   "cell_type": "code",
   "execution_count": null,
   "id": "c9930694-3393-4c89-bd51-dda520071a54",
   "metadata": {},
   "outputs": [],
   "source": [
    "standings = extract_standings_data(218, 2023)\n",
    "\n",
    "print(type(standings[\"response\"]))\n",
    "print(len(standings[\"response\"]))\n",
    "print(type(standings[\"response\"][0]))\n",
    "print(standings[\"response\"][0])\n",
    "\n",
    "austrian_bundesliga_current_standings = standings[\"response\"][0]\n",
    "\n",
    "insert_result = insert_one_to_database(austrian_bundesliga_current_standings, \"api_football_com_leagues_seasons_standings\")\n",
    "print(\"inserted_id:\", insert_result.inserted_id) "
   ]
  },
  {
   "cell_type": "code",
   "execution_count": null,
   "id": "f95b4a07-6fe1-4253-9e0d-bfbab2b0ddc4",
   "metadata": {},
   "outputs": [],
   "source": [
    "db.api_football_com_leagues_seasons_standings.find_one()"
   ]
  },
  {
   "cell_type": "code",
   "execution_count": 149,
   "id": "65aacb94-965b-46c5-b371-40368dda03f4",
   "metadata": {},
   "outputs": [
    {
     "name": "stdout",
     "output_type": "stream",
     "text": [
      "    team_id           team_name\n",
      "0       571   Red Bull Salzburg\n",
      "1       601      Austria Vienna\n",
      "2       618          SCR Altach\n",
      "3       637          Sturm Graz\n",
      "4       781        Rapid Vienna\n",
      "5      1025      Wolfsberger AC\n",
      "6      1026           Lask Linz\n",
      "7      1072        TSV Hartberg\n",
      "8      1394          FC BW Linz\n",
      "9      1398         WSG Wattens\n",
      "10     1399    Austria Lustenau\n",
      "11     1405  Austria Klagenfurt\n"
     ]
    }
   ],
   "source": [
    "austrian_bundesliga_team_ids = []\n",
    "austrian_bundesliga_team_names = []\n",
    "\n",
    "for x in db.api_football_com_leagues_seasons_teams.find({\"league_id\": 218, \"season_id\": 2023}):\n",
    "    team_id = x[\"team\"][\"id\"]\n",
    "    austrian_bundesliga_team_ids.append(team_id)\n",
    "    team_name = x[\"team\"][\"name\"]\n",
    "    austrian_bundesliga_team_names.append(team_name)\n",
    "\n",
    "austrian_bundesliga_teams_data = {\n",
    "    \"team_id\" : austrian_bundesliga_team_ids,\n",
    "    \"team_name\" : austrian_bundesliga_team_names    \n",
    "}\n",
    "\n",
    "austrian_bundesliga_teams = pd.DataFrame(austrian_bundesliga_teams_data)\n",
    "\n",
    "print(austrian_bundesliga_teams)"
   ]
  },
  {
   "cell_type": "code",
   "execution_count": 116,
   "id": "97a89fda-7576-42b4-b042-c82aeda621a3",
   "metadata": {
    "tags": []
   },
   "outputs": [
    {
     "name": "stdout",
     "output_type": "stream",
     "text": [
      "     _id  average_player_age\n",
      "0    781           23.633333\n",
      "1   1394           25.115385\n",
      "2   1398           23.629630\n",
      "3   1405           24.925926\n",
      "4   1072           23.687500\n",
      "5   1399           23.777778\n",
      "6    601           24.107143\n",
      "7   1025           24.296296\n",
      "8   1026           25.310345\n",
      "9    618           25.214286\n",
      "10   571           21.903226\n",
      "11   637           22.133333\n"
     ]
    }
   ],
   "source": [
    "# map_reduce() is deprecated and not supported by the latest version of pymongo library anymore\n",
    "# instead the aggregate() method with an aggregation pipeline should be used\n",
    "\n",
    "pipeline = [\n",
    "    {\"$match\": { \"team.id\" :{\"$in\":austrian_bundesliga_team_ids}} },    \n",
    "    {\"$unwind\": \"$players\"},    \n",
    "    {\"$group\": {\"_id\": \"$team.id\", \"average_player_age\": {\"$avg\": \"$players.age\"}}}\n",
    "]\n",
    "\n",
    "# Create DataFrame\n",
    "avg_player_age_per_team = pd.DataFrame(db.api_football_com_teams_squads.aggregate(pipeline))\n",
    "# Print DataFrame\n",
    "print(avg_player_age_per_team)"
   ]
  },
  {
   "cell_type": "code",
   "execution_count": 102,
   "id": "eda17541-e4b1-46b1-8060-1f4a9cb8889c",
   "metadata": {},
   "outputs": [
    {
     "name": "stdout",
     "output_type": "stream",
     "text": [
      "22\n",
      "33\n"
     ]
    }
   ],
   "source": [
    "for s in db.api_football_com_leagues_seasons_standings.find_one()[\"league\"][\"standings\"]:\n",
    "    for g in s:\n",
    "        if(g[\"team\"][\"id\"]==781):\n",
    "            print(g[\"points\"])    "
   ]
  },
  {
   "cell_type": "code",
   "execution_count": 117,
   "id": "fc61c0a5-c533-4a0a-8399-bb68548b3a13",
   "metadata": {},
   "outputs": [
    {
     "name": "stdout",
     "output_type": "stream",
     "text": [
      "     _id  points\n",
      "0    601      33\n",
      "1   1025      30\n",
      "2   1399      10\n",
      "3   1394      19\n",
      "4   1026      35\n",
      "5    781      33\n",
      "6   1072      34\n",
      "7   1405      34\n",
      "8    637      46\n",
      "9    618      19\n",
      "10   571      50\n",
      "11  1398      15\n"
     ]
    }
   ],
   "source": [
    "# get max of points because there are values of different groups of austrian Bundesliga\n",
    "pipeline = [\n",
    "    {\"$match\": { \"league.id\" : 218, \"league.season\" : 2023} },    \n",
    "    {\"$unwind\": \"$league.standings\"},    \n",
    "    {\"$unwind\": \"$league.standings\"},\n",
    "    {\"$group\": {\"_id\": \"$league.standings.team.id\", \"points\": {\"$max\": \"$league.standings.points\"}}}\n",
    "]\n",
    "\n",
    "league_points_per_team = pd.DataFrame(db.api_football_com_leagues_seasons_standings.aggregate(pipeline))\n",
    "print(league_points_per_team)"
   ]
  },
  {
   "cell_type": "code",
   "execution_count": 143,
   "id": "b6b0b5ae-7dfb-4b00-90fa-5626f0ad9eea",
   "metadata": {},
   "outputs": [
    {
     "name": "stdout",
     "output_type": "stream",
     "text": [
      "    team_id           team_name  average_player_age  points\n",
      "0       571   Red Bull Salzburg           21.903226      50\n",
      "1       601      Austria Vienna           24.107143      33\n",
      "2       618          SCR Altach           25.214286      19\n",
      "3       637          Sturm Graz           22.133333      46\n",
      "4       781        Rapid Vienna           23.633333      33\n",
      "5      1025      Wolfsberger AC           24.296296      30\n",
      "6      1026           Lask Linz           25.310345      35\n",
      "7      1072        TSV Hartberg           23.687500      34\n",
      "8      1394          FC BW Linz           25.115385      19\n",
      "9      1398         WSG Wattens           23.629630      15\n",
      "10     1399    Austria Lustenau           23.777778      10\n",
      "11     1405  Austria Klagenfurt           24.925926      34\n",
      "    team_id           team_name  average_player_age  points\n",
      "10     1399    Austria Lustenau           23.777778      10\n",
      "9      1398         WSG Wattens           23.629630      15\n",
      "2       618          SCR Altach           25.214286      19\n",
      "8      1394          FC BW Linz           25.115385      19\n",
      "5      1025      Wolfsberger AC           24.296296      30\n",
      "1       601      Austria Vienna           24.107143      33\n",
      "4       781        Rapid Vienna           23.633333      33\n",
      "7      1072        TSV Hartberg           23.687500      34\n",
      "11     1405  Austria Klagenfurt           24.925926      34\n",
      "6      1026           Lask Linz           25.310345      35\n",
      "3       637          Sturm Graz           22.133333      46\n",
      "0       571   Red Bull Salzburg           21.903226      50\n"
     ]
    }
   ],
   "source": [
    "avg_player_age_and_league_points_per_team = pd.merge(avg_player_age_per_team, league_points_per_team)\n",
    "avg_player_age_and_league_points_per_team = pd.merge(austrian_bundesliga_teams, avg_player_age_and_league_points_per_team, how='left', left_on='team_id', right_on='_id')\n",
    "print(avg_player_age_and_league_points_per_team[[\"team_id\", \"team_name\", \"average_player_age\", \"points\"]])\n",
    "avg_player_age_and_league_points_per_team = avg_player_age_and_league_points_per_team.sort_values('points')\n",
    "print(avg_player_age_and_league_points_per_team[[\"team_id\", \"team_name\", \"average_player_age\", \"points\"]])"
   ]
  },
  {
   "cell_type": "code",
   "execution_count": 148,
   "id": "efe6f727-56d7-41c7-9c60-35a36e2f9694",
   "metadata": {},
   "outputs": [
    {
     "data": {
      "image/png": "[encoded data removed]",
      "text/plain": [
       "<Figure size 1000x600 with 1 Axes>"
      ]
     },
     "metadata": {},
     "output_type": "display_data"
    }
   ],
   "source": [
    "# Visualisierung der Daten\n",
    "plt.figure(figsize=(10, 6))\n",
    "x = avg_player_age_and_league_points_per_team[\"team_name\"]\n",
    "y = avg_player_age_and_league_points_per_team[\"points\"]\n",
    "\n",
    "plt.bar(x, y, color='blue')\n",
    "plt.xlabel('Team')\n",
    "plt.ylabel('Points')\n",
    "plt.title('Current points per team in Bundesliga (AT) of season 2023/24')\n",
    "plt.xticks(rotation=45)\n",
    "plt.tight_layout()\n",
    "plt.show()"
   ]
  },
  {
   "cell_type": "code",
   "execution_count": 137,
   "id": "8f5f1ace-ff83-45b4-9ee8-f20c8d3197cc",
   "metadata": {},
   "outputs": [
    {
     "data": {
      "image/png": "[encoded data removed]",
      "text/plain": [
       "<Figure size 640x480 with 1 Axes>"
      ]
     },
     "metadata": {},
     "output_type": "display_data"
    }
   ],
   "source": [
    "x = avg_player_age_and_league_points_per_team[\"average_player_age\"]\n",
    "y = avg_player_age_and_league_points_per_team[\"points\"]\n",
    "\n",
    "# plot\n",
    "fig, ax = plt.subplots()\n",
    "\n",
    "ax.scatter(x, y)\n",
    "ax.set_xlabel('average player age')\n",
    "ax.set_ylabel('points')\n",
    "ax.set_title('Scatter plot of points over average player age')\n",
    "\n",
    "plt.show()"
   ]
  },
  {
   "cell_type": "code",
   "execution_count": null,
   "id": "decb0ca9-22e2-47e5-9d50-23274c82839c",
   "metadata": {},
   "outputs": [],
   "source": []
  }
 ],
 "metadata": {
  "kernelspec": {
   "display_name": "Python 3 (ipykernel)",
   "language": "python",
   "name": "python3"
  },
  "language_info": {
   "codemirror_mode": {
    "name": "ipython",
    "version": 3
   },
   "file_extension": ".py",
   "mimetype": "text/x-python",
   "name": "python",
   "nbconvert_exporter": "python",
   "pygments_lexer": "ipython3",
   "version": "3.11.7"
  }
 },
 "nbformat": 4,
 "nbformat_minor": 5
}
