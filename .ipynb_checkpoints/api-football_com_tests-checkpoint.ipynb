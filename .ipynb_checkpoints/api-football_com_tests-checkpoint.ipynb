{
 "cells": [
  {
   "cell_type": "code",
   "execution_count": 1,
   "id": "37255c25-84ab-4aa7-824b-ef841e16de05",
   "metadata": {},
   "outputs": [],
   "source": [
    "import requests\n",
    "from datetime import datetime\n",
    "import math\n",
    "import pymongo\n",
    "import pandas as pd\n",
    "\n",
    "# Funktion zum Abrufen von Daten über api-football.com\n",
    "def fetch_data(endpoint):\n",
    "    base_url = 'https://v3.football.api-sports.io'\n",
    "    headers = {'x-rapidapi-key': '9042f6002a1d87dba47a9712a79e63c7'}  # Hier den API-Schlüssel einfügen\n",
    "    response = requests.get(base_url + endpoint, headers=headers)\n",
    "    data = response.json()\n",
    "    return data"
   ]
  },
  {
   "cell_type": "code",
   "execution_count": 3,
   "id": "69a8fddf-5b46-4711-b6cb-f41e2e38f074",
   "metadata": {
    "tags": []
   },
   "outputs": [],
   "source": [
    "# Verbindung zur MongoDB-Datenbank am Azure Server herstellen\n",
    "client = pymongo.MongoClient(\n",
    "    host='20.82.185.108:27017', # <-- IP und Port hier einfügen\n",
    "    serverSelectionTimeoutMS=30000, # 30 Sekunden Timeout\n",
    "    username=\"group3\",\n",
    "    password=\"football\",\n",
    ")\n",
    "\n",
    "# Datenbank auswählen\n",
    "db = client['football_stats'] # Datenbankname hier einfügen"
   ]
  },
  {
   "cell_type": "code",
   "execution_count": 4,
   "id": "3f4dbb82-9504-43be-a747-9f912b941e14",
   "metadata": {
    "tags": []
   },
   "outputs": [
    {
     "data": {
      "text/plain": [
       "['top_scorers_39',\n",
       " 'premier_league_fixtures',\n",
       " 'api_football_com_teams_squads',\n",
       " 'competitions',\n",
       " 'top_scorers_collection',\n",
       " 'premier_league_players',\n",
       " 'topredcards',\n",
       " 'topassists',\n",
       " 'api_football_com_leagues',\n",
       " 'top_scorers',\n",
       " 'topscorers',\n",
       " 'players',\n",
       " 'topyellowcards',\n",
       " 'premier_league_teams',\n",
       " 'teams']"
      ]
     },
     "execution_count": 4,
     "metadata": {},
     "output_type": "execute_result"
    }
   ],
   "source": [
    "db.list_collection_names()"
   ]
  },
  {
   "cell_type": "code",
   "execution_count": 98,
   "id": "384a0e0a-90c2-4997-ad1d-d5bf74ce0c96",
   "metadata": {
    "tags": []
   },
   "outputs": [],
   "source": [
    "# Funktion zum Einfügen einer Liste von Dokumenten in die MongoDB-Datenbank\n",
    "def insert_many_to_database(documents, collection_name):\n",
    "    collection = db[collection_name] # Collection erstellen bzw auswählen\n",
    "    return collection.insert_many(documents)"
   ]
  },
  {
   "cell_type": "code",
   "execution_count": 99,
   "id": "ce4bbab4-1a51-49fd-8319-96b9a40af0d4",
   "metadata": {
    "tags": []
   },
   "outputs": [],
   "source": [
    "# Funktion zum Einfügen eines einzelnen Dokuments in die MongoDB-Datenbank\n",
    "def insert_one_to_database(document, collection_name):\n",
    "    collection = db[collection_name] # Collection erstellen bzw auswählen  \n",
    "    return collection.insert_one(document)"
   ]
  },
  {
   "cell_type": "code",
   "execution_count": 89,
   "id": "96b6f32f-2185-4a95-a947-cbe28d3c24ed",
   "metadata": {
    "tags": []
   },
   "outputs": [],
   "source": [
    "# Funktion zur Extraktion von Daten über die Ligen\n",
    "def extract_leagues_data():\n",
    "    leagues_data = fetch_data(f\"/leagues\")    \n",
    "    return leagues_data"
   ]
  },
  {
   "cell_type": "code",
   "execution_count": 96,
   "id": "7be16c55-f485-49a3-b6ee-ca1346a4aa31",
   "metadata": {
    "tags": []
   },
   "outputs": [
    {
     "name": "stdout",
     "output_type": "stream",
     "text": [
      "Num of leagues: 1094\n",
      "{'id': 4, 'name': 'Euro Championship', 'type': 'Cup', 'logo': 'https://media.api-sports.io/football/leagues/4.png', 'country': 'World', 'last_season_id': 2024}\n",
      "<class 'dict'>\n"
     ]
    }
   ],
   "source": [
    "leagues = extract_leagues_data()\n",
    "\n",
    "print(\"Num of leagues:\", len(leagues[\"response\"]))\n",
    "first_response = leagues[\"response\"][0]\n",
    "# testing to create one league entry\n",
    "league = first_response[\"league\"]\n",
    "league[\"country\"] = first_response[\"country\"][\"name\"]\n",
    "league[\"last_season_id\"] = first_response[\"seasons\"][-1][\"year\"]\n",
    "print(league)\n",
    "print(type(league)) "
   ]
  },
  {
   "cell_type": "code",
   "execution_count": null,
   "id": "4004a757-c761-433d-9020-4d7d16bbee32",
   "metadata": {
    "tags": []
   },
   "outputs": [],
   "source": [
    "# Daten der Ligen in die collection \"api_football_com_leagues\" einfügen\n",
    "i = 1\n",
    "\n",
    "for r in leagues[\"response\"]:\n",
    "    league = r[\"league\"]\n",
    "    league[\"country\"] = r[\"country\"][\"name\"]\n",
    "    league[\"last_season_id\"] = r[\"seasons\"][-1][\"year\"]\n",
    "    insert_result = insert_one_to_database(league, \"api_football_com_leagues\")\n",
    "    print(\"entry_number:\", i, \"inserted_id:\", insert_result.inserted_id)  \n",
    "    i+=1"
   ]
  },
  {
   "cell_type": "code",
   "execution_count": 108,
   "id": "468e2f8e-d83d-4357-a948-c8e76f646730",
   "metadata": {
    "tags": []
   },
   "outputs": [
    {
     "data": {
      "text/plain": [
       "{'_id': ObjectId('66242bf174a7545451a67b9a'),\n",
       " 'id': 4,\n",
       " 'name': 'Euro Championship',\n",
       " 'type': 'Cup',\n",
       " 'logo': 'https://media.api-sports.io/football/leagues/4.png',\n",
       " 'country': 'World',\n",
       " 'last_season_id': 2024}"
      ]
     },
     "execution_count": 108,
     "metadata": {},
     "output_type": "execute_result"
    }
   ],
   "source": [
    "# collection löschen\n",
    "#db.api_football_com_leagues.drop()\n",
    "\n",
    "# Abfrage des ersten Eintrags aus der collection \"api_football_com_leagues\"\n",
    "db.api_football_com_leagues.find_one()"
   ]
  },
  {
   "cell_type": "code",
   "execution_count": 5,
   "id": "4277e02a-ca7d-40ee-9da9-88a5104bc934",
   "metadata": {
    "tags": []
   },
   "outputs": [
    {
     "name": "stdout",
     "output_type": "stream",
     "text": [
      "{'_id': ObjectId('66242c2974a7545451a67bea'), 'id': 218, 'name': 'Bundesliga', 'type': 'League', 'logo': 'https://media.api-sports.io/football/leagues/218.png', 'country': 'Austria', 'last_season_id': 2023}\n"
     ]
    }
   ],
   "source": [
    "# Abfrage der Bundesliga in AT\n",
    "for x in db.api_football_com_leagues.find({\"name\": \"Bundesliga\", \"country\": \"Austria\"}):\n",
    "  print(x) "
   ]
  },
  {
   "cell_type": "code",
   "execution_count": 6,
   "id": "0f14b56e-c696-4eaa-8931-68ec0fd0be63",
   "metadata": {
    "tags": []
   },
   "outputs": [],
   "source": [
    "# Funktion zur Extraktion der Daten aller Teams, einer bestimmten Saison, einer bestimmten Liga\n",
    "def extract_teams_league_season_data(league_id, season_id):\n",
    "    teams_league_season_data = fetch_data(f\"/teams?league=\" + str(league_id) + \"&season=\" + str(season_id))    \n",
    "    return teams_league_season_data"
   ]
  },
  {
   "cell_type": "code",
   "execution_count": 127,
   "id": "a8b29f9c-3b1e-41dc-9a3d-01f699f8dea2",
   "metadata": {
    "tags": []
   },
   "outputs": [
    {
     "name": "stdout",
     "output_type": "stream",
     "text": [
      "{'team': {'id': 571, 'name': 'Red Bull Salzburg', 'code': 'SAL', 'country': 'Austria', 'founded': 1933, 'national': False, 'logo': 'https://media.api-sports.io/football/teams/571.png'}, 'venue': {'id': 148, 'name': 'Red Bull Arena', 'address': 'Stadionstrasse 2/3', 'city': 'Wals-Siezenheim', 'capacity': 31895, 'surface': 'grass', 'image': 'https://media.api-sports.io/football/venues/148.png'}}\n",
      "team_id: 571 | team_name: Red Bull Salzburg\n",
      "team_id: 601 | team_name: Austria Vienna\n",
      "team_id: 618 | team_name: SCR Altach\n",
      "team_id: 637 | team_name: Sturm Graz\n",
      "team_id: 781 | team_name: Rapid Vienna\n",
      "team_id: 1025 | team_name: Wolfsberger AC\n",
      "team_id: 1026 | team_name: Lask Linz\n",
      "team_id: 1072 | team_name: TSV Hartberg\n",
      "team_id: 1394 | team_name: FC BW Linz\n",
      "team_id: 1398 | team_name: WSG Wattens\n",
      "team_id: 1399 | team_name: Austria Lustenau\n",
      "team_id: 1405 | team_name: Austria Klagenfurt\n"
     ]
    }
   ],
   "source": [
    "current_austrian_bundesliga_teams = extract_teams_league_season_data(218, 2023)\n",
    "\n",
    "print(current_austrian_bundesliga_teams[\"response\"][0])\n",
    "\n",
    "for r in current_austrian_bundesliga_teams[\"response\"]:\n",
    "    team = r[\"team\"]\n",
    "    print(\"team_id:\", team[\"id\"], \"| team_name:\", team[\"name\"])"
   ]
  },
  {
   "cell_type": "code",
   "execution_count": 7,
   "id": "18b3f2f5-1e61-484e-b354-0d7da7b3b464",
   "metadata": {
    "tags": []
   },
   "outputs": [],
   "source": [
    "# Funktion zur Extraktion von Daten über ein bestimmtes Team, einer bestimmten Saison, einer bestimmten Liga\n",
    "def extract_team_data(season_id, team_id, league_id):\n",
    "    team_data = fetch_data(f\"/teams/statistics?season=\" + str(season_id) + \"&team=\" + str(team_id) + \"&league=\" + str(league_id))\n",
    "    #top_scorers = scorers_data[\"scorers\"][:num_players]  # Die ersten num_players Top-Torschützen\n",
    "    return team_data"
   ]
  },
  {
   "cell_type": "code",
   "execution_count": 7,
   "id": "93ed9308-82ad-41f1-86a7-306ec38d7fcf",
   "metadata": {
    "tags": []
   },
   "outputs": [
    {
     "name": "stdout",
     "output_type": "stream",
     "text": [
      "{'get': 'teams/statistics', 'parameters': {'season': '2019', 'team': '33', 'league': '39'}, 'errors': [], 'results': 11, 'paging': {'current': 1, 'total': 1}, 'response': {'league': {'id': 39, 'name': 'Premier League', 'country': 'England', 'logo': 'https://media.api-sports.io/football/leagues/39.png', 'flag': 'https://media.api-sports.io/flags/gb.svg', 'season': 2019}, 'team': {'id': 33, 'name': 'Manchester United', 'logo': 'https://media.api-sports.io/football/teams/33.png'}, 'form': 'WDLDWLDLDWLWDDWWDLWWLWLLDWWDWDWWWWDWDW', 'fixtures': {'played': {'home': 19, 'away': 19, 'total': 38}, 'wins': {'home': 10, 'away': 8, 'total': 18}, 'draws': {'home': 7, 'away': 5, 'total': 12}, 'loses': {'home': 2, 'away': 6, 'total': 8}}, 'goals': {'for': {'total': {'home': 40, 'away': 26, 'total': 66}, 'average': {'home': '2.1', 'away': '1.4', 'total': '1.7'}, 'minute': {'0-15': {'total': 4, 'percentage': '6.06%'}, '16-30': {'total': 17, 'percentage': '25.76%'}, '31-45': {'total': 11, 'percentage': '16.67%'}, '46-60': {'total': 13, 'percentage': '19.70%'}, '61-75': {'total': 10, 'percentage': '15.15%'}, '76-90': {'total': 8, 'percentage': '12.12%'}, '91-105': {'total': 3, 'percentage': '4.55%'}, '106-120': {'total': None, 'percentage': None}}}, 'against': {'total': {'home': 17, 'away': 19, 'total': 36}, 'average': {'home': '0.9', 'away': '1.0', 'total': '0.9'}, 'minute': {'0-15': {'total': 6, 'percentage': '16.67%'}, '16-30': {'total': 3, 'percentage': '8.33%'}, '31-45': {'total': 7, 'percentage': '19.44%'}, '46-60': {'total': 9, 'percentage': '25.00%'}, '61-75': {'total': 3, 'percentage': '8.33%'}, '76-90': {'total': 5, 'percentage': '13.89%'}, '91-105': {'total': 3, 'percentage': '8.33%'}, '106-120': {'total': None, 'percentage': None}}}}, 'biggest': {'streak': {'wins': 4, 'draws': 2, 'loses': 2}, 'wins': {'home': '4-0', 'away': '0-3'}, 'loses': {'home': '0-2', 'away': '2-0'}, 'goals': {'for': {'home': 5, 'away': 3}, 'against': {'home': 2, 'away': 3}}}, 'clean_sheet': {'home': 7, 'away': 6, 'total': 13}, 'failed_to_score': {'home': 2, 'away': 6, 'total': 8}, 'penalty': {'scored': {'total': 10, 'percentage': '100.00%'}, 'missed': {'total': 0, 'percentage': '0%'}, 'total': 10}, 'lineups': [{'formation': '4-2-3-1', 'played': 32}, {'formation': '3-4-1-2', 'played': 4}, {'formation': '3-4-2-1', 'played': 1}, {'formation': '4-3-1-2', 'played': 1}], 'cards': {'yellow': {'0-15': {'total': 5, 'percentage': '6.85%'}, '16-30': {'total': 5, 'percentage': '6.85%'}, '31-45': {'total': 16, 'percentage': '21.92%'}, '46-60': {'total': 12, 'percentage': '16.44%'}, '61-75': {'total': 14, 'percentage': '19.18%'}, '76-90': {'total': 21, 'percentage': '28.77%'}, '91-105': {'total': None, 'percentage': None}, '106-120': {'total': None, 'percentage': None}}, 'red': {'0-15': {'total': None, 'percentage': None}, '16-30': {'total': None, 'percentage': None}, '31-45': {'total': None, 'percentage': None}, '46-60': {'total': None, 'percentage': None}, '61-75': {'total': None, 'percentage': None}, '76-90': {'total': None, 'percentage': None}, '91-105': {'total': None, 'percentage': None}, '106-120': {'total': None, 'percentage': None}}}}}\n"
     ]
    }
   ],
   "source": [
    "team = extract_team_data(2019, 33, 39)\n",
    "print(team)"
   ]
  },
  {
   "cell_type": "code",
   "execution_count": 54,
   "id": "eed75185-8e41-457f-8a7c-29bb85415cc1",
   "metadata": {
    "tags": []
   },
   "outputs": [],
   "source": [
    "# Funktion zur Extraktion von Daten der Spieler eines Teams\n",
    "def extract_squad_data(team_id):\n",
    "    squad_data = fetch_data(f\"/players/squads?team=\" + str(team_id))\n",
    "    #top_scorers = scorers_data[\"scorers\"][:num_players]  # Die ersten num_players Top-Torschützen\n",
    "    return squad_data"
   ]
  },
  {
   "cell_type": "code",
   "execution_count": null,
   "id": "189fc24c-dd64-4665-bcdb-03b2f7bf02a3",
   "metadata": {
    "tags": []
   },
   "outputs": [],
   "source": [
    "squad = extract_squad_data(33)"
   ]
  },
  {
   "cell_type": "code",
   "execution_count": null,
   "id": "495ca056-5389-440f-ac92-803d751e1677",
   "metadata": {
    "tags": []
   },
   "outputs": [],
   "source": [
    "#print(type(squad))\n",
    "#print(type(squad[\"response\"]))\n",
    "#print(len(squad[\"response\"]))\n",
    "\n",
    "man_united_squad = squad[\"response\"][0]\n",
    "print(type(man_united_squad))\n",
    "print(man_united_squad)\n",
    "\n",
    "# Create DataFrame\n",
    "df = pd.DataFrame(squad[\"response\"][0][\"players\"])\n",
    "\n",
    "# Print DataFrame\n",
    "print(df)\n",
    "\n",
    "from statistics import mean\n",
    "\n",
    "# Mittelwert des Alters der Spieler ausgeben\n",
    "print(\"average age:\", mean(df[\"age\"]))"
   ]
  },
  {
   "cell_type": "code",
   "execution_count": 145,
   "id": "36c78714-4ee9-4492-93c6-93e5db8baa06",
   "metadata": {
    "tags": []
   },
   "outputs": [
    {
     "name": "stdout",
     "output_type": "stream",
     "text": [
      "{'team': {'id': 33, 'name': 'Manchester United', 'logo': 'https://media.api-sports.io/football/teams/33.png'}, 'players': [{'id': 50132, 'name': 'A. Bayındır', 'age': 25, 'number': 1, 'position': 'Goalkeeper', 'photo': 'https://media.api-sports.io/football/players/50132.png'}, {'id': 2931, 'name': 'T. Heaton', 'age': 37, 'number': 22, 'position': 'Goalkeeper', 'photo': 'https://media.api-sports.io/football/players/2931.png'}, {'id': 526, 'name': 'A. Onana', 'age': 27, 'number': 24, 'position': 'Goalkeeper', 'photo': 'https://media.api-sports.io/football/players/526.png'}, {'id': 284382, 'name': 'Dermot William Mee', 'age': 21, 'number': 45, 'position': 'Goalkeeper', 'photo': 'https://media.api-sports.io/football/players/284382.png'}, {'id': 889, 'name': 'V. Lindelöf', 'age': 29, 'number': 2, 'position': 'Defender', 'photo': 'https://media.api-sports.io/football/players/889.png'}, {'id': 2935, 'name': 'H. Maguire', 'age': 30, 'number': 5, 'position': 'Defender', 'photo': 'https://media.api-sports.io/football/players/2935.png'}, {'id': 2467, 'name': 'Lisandro Martínez', 'age': 25, 'number': 6, 'position': 'Defender', 'photo': 'https://media.api-sports.io/football/players/2467.png'}, {'id': 37145, 'name': 'T. Malacia', 'age': 24, 'number': 12, 'position': 'Defender', 'photo': 'https://media.api-sports.io/football/players/37145.png'}, {'id': 742, 'name': 'R. Varane', 'age': 30, 'number': 19, 'position': 'Defender', 'photo': 'https://media.api-sports.io/football/players/742.png'}, {'id': 886, 'name': 'Diogo Dalot', 'age': 24, 'number': 20, 'position': 'Defender', 'photo': 'https://media.api-sports.io/football/players/886.png'}, {'id': 891, 'name': 'L. Shaw', 'age': 28, 'number': 23, 'position': 'Defender', 'photo': 'https://media.api-sports.io/football/players/891.png'}, {'id': 18846, 'name': 'A. Wan-Bissaka', 'age': 26, 'number': 29, 'position': 'Defender', 'photo': 'https://media.api-sports.io/football/players/18846.png'}, {'id': 18772, 'name': 'J. Evans', 'age': 35, 'number': 35, 'position': 'Defender', 'photo': 'https://media.api-sports.io/football/players/18772.png'}, {'id': 288112, 'name': 'Willy Kambwala Ndengushi', 'age': 18, 'number': 53, 'position': 'Defender', 'photo': 'https://media.api-sports.io/football/players/288112.png'}, {'id': 403064, 'name': 'H. Amass', 'age': 16, 'number': 70, 'position': 'Defender', 'photo': 'https://media.api-sports.io/football/players/403064.png'}, {'id': 328098, 'name': 'H. Ogunneye', 'age': 18, 'number': 75, 'position': 'Defender', 'photo': 'https://media.api-sports.io/football/players/328098.png'}, {'id': 284363, 'name': 'R. Bennett', 'age': 19, 'number': None, 'position': 'Defender', 'photo': 'https://media.api-sports.io/football/players/284363.png'}, {'id': 74, 'name': 'S. Amrabat', 'age': 27, 'number': 4, 'position': 'Midfielder', 'photo': 'https://media.api-sports.io/football/players/74.png'}, {'id': 19220, 'name': 'M. Mount', 'age': 24, 'number': 7, 'position': 'Midfielder', 'photo': 'https://media.api-sports.io/football/players/19220.png'}, {'id': 1485, 'name': 'Bruno Fernandes', 'age': 29, 'number': 8, 'position': 'Midfielder', 'photo': 'https://media.api-sports.io/football/players/1485.png'}, {'id': 174, 'name': 'C. Eriksen', 'age': 31, 'number': 14, 'position': 'Midfielder', 'photo': 'https://media.api-sports.io/football/players/174.png'}, {'id': 747, 'name': 'Casemiro', 'age': 31, 'number': 18, 'position': 'Midfielder', 'photo': 'https://media.api-sports.io/football/players/747.png'}, {'id': 284322, 'name': 'K. Mainoo', 'age': 18, 'number': 37, 'position': 'Midfielder', 'photo': 'https://media.api-sports.io/football/players/284322.png'}, {'id': 903, 'name': 'S. McTominay', 'age': 27, 'number': 39, 'position': 'Midfielder', 'photo': 'https://media.api-sports.io/football/players/903.png'}, {'id': 284242, 'name': 'O. Forson', 'age': 19, 'number': 62, 'position': 'Midfielder', 'photo': 'https://media.api-sports.io/football/players/284242.png'}, {'id': 284400, 'name': 'Tobias Christopher Collyer', 'age': 19, 'number': 65, 'position': 'Midfielder', 'photo': 'https://media.api-sports.io/football/players/284400.png'}, {'id': 908, 'name': 'A. Martial', 'age': 28, 'number': 9, 'position': 'Attacker', 'photo': 'https://media.api-sports.io/football/players/908.png'}, {'id': 909, 'name': 'M. Rashford', 'age': 26, 'number': 10, 'position': 'Attacker', 'photo': 'https://media.api-sports.io/football/players/909.png'}, {'id': 288006, 'name': 'R. Højlund', 'age': 20, 'number': 11, 'position': 'Attacker', 'photo': 'https://media.api-sports.io/football/players/288006.png'}, {'id': 157997, 'name': 'A. Diallo', 'age': 21, 'number': 16, 'position': 'Attacker', 'photo': 'https://media.api-sports.io/football/players/157997.png'}, {'id': 284324, 'name': 'A. Garnacho', 'age': 19, 'number': 17, 'position': 'Attacker', 'photo': 'https://media.api-sports.io/football/players/284324.png'}, {'id': 9971, 'name': 'Antony', 'age': 23, 'number': 21, 'position': 'Attacker', 'photo': 'https://media.api-sports.io/football/players/9971.png'}, {'id': 163054, 'name': 'S. Shoretire', 'age': 19, 'number': 47, 'position': 'Attacker', 'photo': 'https://media.api-sports.io/football/players/163054.png'}, {'id': 362270, 'name': 'E. Wheatley', 'age': 18, 'number': 84, 'position': 'Attacker', 'photo': 'https://media.api-sports.io/football/players/362270.png'}]}\n"
     ]
    }
   ],
   "source": [
    "print(man_united_squad)"
   ]
  },
  {
   "cell_type": "code",
   "execution_count": 146,
   "id": "fa1d0c15-6952-45ce-a762-59a31ed1c85b",
   "metadata": {
    "tags": []
   },
   "outputs": [
    {
     "data": {
      "text/plain": [
       "InsertOneResult(ObjectId('66243d3074a7545451a67fe0'), acknowledged=True)"
      ]
     },
     "execution_count": 146,
     "metadata": {},
     "output_type": "execute_result"
    }
   ],
   "source": [
    "# Spieler von Manchester United in die collection \"api_football_com_teams_squads\" einfügen\n",
    "\n",
    "insert_one_to_database(man_united_squad, \"api_football_com_teams_squads\")"
   ]
  },
  {
   "cell_type": "code",
   "execution_count": 148,
   "id": "0d4414c8-87b8-40fc-99e8-863e0cc97439",
   "metadata": {
    "tags": []
   },
   "outputs": [
    {
     "data": {
      "text/plain": [
       "{'_id': ObjectId('66243d3074a7545451a67fe0'),\n",
       " 'team': {'id': 33,\n",
       "  'name': 'Manchester United',\n",
       "  'logo': 'https://media.api-sports.io/football/teams/33.png'},\n",
       " 'players': [{'id': 50132,\n",
       "   'name': 'A. Bayındır',\n",
       "   'age': 25,\n",
       "   'number': 1,\n",
       "   'position': 'Goalkeeper',\n",
       "   'photo': 'https://media.api-sports.io/football/players/50132.png'},\n",
       "  {'id': 2931,\n",
       "   'name': 'T. Heaton',\n",
       "   'age': 37,\n",
       "   'number': 22,\n",
       "   'position': 'Goalkeeper',\n",
       "   'photo': 'https://media.api-sports.io/football/players/2931.png'},\n",
       "  {'id': 526,\n",
       "   'name': 'A. Onana',\n",
       "   'age': 27,\n",
       "   'number': 24,\n",
       "   'position': 'Goalkeeper',\n",
       "   'photo': 'https://media.api-sports.io/football/players/526.png'},\n",
       "  {'id': 284382,\n",
       "   'name': 'Dermot William Mee',\n",
       "   'age': 21,\n",
       "   'number': 45,\n",
       "   'position': 'Goalkeeper',\n",
       "   'photo': 'https://media.api-sports.io/football/players/284382.png'},\n",
       "  {'id': 889,\n",
       "   'name': 'V. Lindelöf',\n",
       "   'age': 29,\n",
       "   'number': 2,\n",
       "   'position': 'Defender',\n",
       "   'photo': 'https://media.api-sports.io/football/players/889.png'},\n",
       "  {'id': 2935,\n",
       "   'name': 'H. Maguire',\n",
       "   'age': 30,\n",
       "   'number': 5,\n",
       "   'position': 'Defender',\n",
       "   'photo': 'https://media.api-sports.io/football/players/2935.png'},\n",
       "  {'id': 2467,\n",
       "   'name': 'Lisandro Martínez',\n",
       "   'age': 25,\n",
       "   'number': 6,\n",
       "   'position': 'Defender',\n",
       "   'photo': 'https://media.api-sports.io/football/players/2467.png'},\n",
       "  {'id': 37145,\n",
       "   'name': 'T. Malacia',\n",
       "   'age': 24,\n",
       "   'number': 12,\n",
       "   'position': 'Defender',\n",
       "   'photo': 'https://media.api-sports.io/football/players/37145.png'},\n",
       "  {'id': 742,\n",
       "   'name': 'R. Varane',\n",
       "   'age': 30,\n",
       "   'number': 19,\n",
       "   'position': 'Defender',\n",
       "   'photo': 'https://media.api-sports.io/football/players/742.png'},\n",
       "  {'id': 886,\n",
       "   'name': 'Diogo Dalot',\n",
       "   'age': 24,\n",
       "   'number': 20,\n",
       "   'position': 'Defender',\n",
       "   'photo': 'https://media.api-sports.io/football/players/886.png'},\n",
       "  {'id': 891,\n",
       "   'name': 'L. Shaw',\n",
       "   'age': 28,\n",
       "   'number': 23,\n",
       "   'position': 'Defender',\n",
       "   'photo': 'https://media.api-sports.io/football/players/891.png'},\n",
       "  {'id': 18846,\n",
       "   'name': 'A. Wan-Bissaka',\n",
       "   'age': 26,\n",
       "   'number': 29,\n",
       "   'position': 'Defender',\n",
       "   'photo': 'https://media.api-sports.io/football/players/18846.png'},\n",
       "  {'id': 18772,\n",
       "   'name': 'J. Evans',\n",
       "   'age': 35,\n",
       "   'number': 35,\n",
       "   'position': 'Defender',\n",
       "   'photo': 'https://media.api-sports.io/football/players/18772.png'},\n",
       "  {'id': 288112,\n",
       "   'name': 'Willy Kambwala Ndengushi',\n",
       "   'age': 18,\n",
       "   'number': 53,\n",
       "   'position': 'Defender',\n",
       "   'photo': 'https://media.api-sports.io/football/players/288112.png'},\n",
       "  {'id': 403064,\n",
       "   'name': 'H. Amass',\n",
       "   'age': 16,\n",
       "   'number': 70,\n",
       "   'position': 'Defender',\n",
       "   'photo': 'https://media.api-sports.io/football/players/403064.png'},\n",
       "  {'id': 328098,\n",
       "   'name': 'H. Ogunneye',\n",
       "   'age': 18,\n",
       "   'number': 75,\n",
       "   'position': 'Defender',\n",
       "   'photo': 'https://media.api-sports.io/football/players/328098.png'},\n",
       "  {'id': 284363,\n",
       "   'name': 'R. Bennett',\n",
       "   'age': 19,\n",
       "   'number': None,\n",
       "   'position': 'Defender',\n",
       "   'photo': 'https://media.api-sports.io/football/players/284363.png'},\n",
       "  {'id': 74,\n",
       "   'name': 'S. Amrabat',\n",
       "   'age': 27,\n",
       "   'number': 4,\n",
       "   'position': 'Midfielder',\n",
       "   'photo': 'https://media.api-sports.io/football/players/74.png'},\n",
       "  {'id': 19220,\n",
       "   'name': 'M. Mount',\n",
       "   'age': 24,\n",
       "   'number': 7,\n",
       "   'position': 'Midfielder',\n",
       "   'photo': 'https://media.api-sports.io/football/players/19220.png'},\n",
       "  {'id': 1485,\n",
       "   'name': 'Bruno Fernandes',\n",
       "   'age': 29,\n",
       "   'number': 8,\n",
       "   'position': 'Midfielder',\n",
       "   'photo': 'https://media.api-sports.io/football/players/1485.png'},\n",
       "  {'id': 174,\n",
       "   'name': 'C. Eriksen',\n",
       "   'age': 31,\n",
       "   'number': 14,\n",
       "   'position': 'Midfielder',\n",
       "   'photo': 'https://media.api-sports.io/football/players/174.png'},\n",
       "  {'id': 747,\n",
       "   'name': 'Casemiro',\n",
       "   'age': 31,\n",
       "   'number': 18,\n",
       "   'position': 'Midfielder',\n",
       "   'photo': 'https://media.api-sports.io/football/players/747.png'},\n",
       "  {'id': 284322,\n",
       "   'name': 'K. Mainoo',\n",
       "   'age': 18,\n",
       "   'number': 37,\n",
       "   'position': 'Midfielder',\n",
       "   'photo': 'https://media.api-sports.io/football/players/284322.png'},\n",
       "  {'id': 903,\n",
       "   'name': 'S. McTominay',\n",
       "   'age': 27,\n",
       "   'number': 39,\n",
       "   'position': 'Midfielder',\n",
       "   'photo': 'https://media.api-sports.io/football/players/903.png'},\n",
       "  {'id': 284242,\n",
       "   'name': 'O. Forson',\n",
       "   'age': 19,\n",
       "   'number': 62,\n",
       "   'position': 'Midfielder',\n",
       "   'photo': 'https://media.api-sports.io/football/players/284242.png'},\n",
       "  {'id': 284400,\n",
       "   'name': 'Tobias Christopher Collyer',\n",
       "   'age': 19,\n",
       "   'number': 65,\n",
       "   'position': 'Midfielder',\n",
       "   'photo': 'https://media.api-sports.io/football/players/284400.png'},\n",
       "  {'id': 908,\n",
       "   'name': 'A. Martial',\n",
       "   'age': 28,\n",
       "   'number': 9,\n",
       "   'position': 'Attacker',\n",
       "   'photo': 'https://media.api-sports.io/football/players/908.png'},\n",
       "  {'id': 909,\n",
       "   'name': 'M. Rashford',\n",
       "   'age': 26,\n",
       "   'number': 10,\n",
       "   'position': 'Attacker',\n",
       "   'photo': 'https://media.api-sports.io/football/players/909.png'},\n",
       "  {'id': 288006,\n",
       "   'name': 'R. Højlund',\n",
       "   'age': 20,\n",
       "   'number': 11,\n",
       "   'position': 'Attacker',\n",
       "   'photo': 'https://media.api-sports.io/football/players/288006.png'},\n",
       "  {'id': 157997,\n",
       "   'name': 'A. Diallo',\n",
       "   'age': 21,\n",
       "   'number': 16,\n",
       "   'position': 'Attacker',\n",
       "   'photo': 'https://media.api-sports.io/football/players/157997.png'},\n",
       "  {'id': 284324,\n",
       "   'name': 'A. Garnacho',\n",
       "   'age': 19,\n",
       "   'number': 17,\n",
       "   'position': 'Attacker',\n",
       "   'photo': 'https://media.api-sports.io/football/players/284324.png'},\n",
       "  {'id': 9971,\n",
       "   'name': 'Antony',\n",
       "   'age': 23,\n",
       "   'number': 21,\n",
       "   'position': 'Attacker',\n",
       "   'photo': 'https://media.api-sports.io/football/players/9971.png'},\n",
       "  {'id': 163054,\n",
       "   'name': 'S. Shoretire',\n",
       "   'age': 19,\n",
       "   'number': 47,\n",
       "   'position': 'Attacker',\n",
       "   'photo': 'https://media.api-sports.io/football/players/163054.png'},\n",
       "  {'id': 362270,\n",
       "   'name': 'E. Wheatley',\n",
       "   'age': 18,\n",
       "   'number': 84,\n",
       "   'position': 'Attacker',\n",
       "   'photo': 'https://media.api-sports.io/football/players/362270.png'}]}"
      ]
     },
     "execution_count": 148,
     "metadata": {},
     "output_type": "execute_result"
    }
   ],
   "source": [
    "db.api_football_com_teams_squads.find_one()"
   ]
  },
  {
   "cell_type": "code",
   "execution_count": 154,
   "id": "97a89fda-7576-42b4-b042-c82aeda621a3",
   "metadata": {
    "tags": []
   },
   "outputs": [
    {
     "name": "stdout",
     "output_type": "stream",
     "text": [
      "[{'_id': 33, 'average_age': 24.441176470588236}]\n"
     ]
    }
   ],
   "source": [
    "# map_reduce() is deprecated and not supported by the latest version of pymongo library anymore\n",
    "# instead the aggregate() method with an aggregation pipeline should be used\n",
    "\n",
    "pipeline = [\n",
    "    {\"$unwind\": \"$players\"},\n",
    "    {\"$group\": {\"_id\": \"$team.id\", \"average_age\": {\"$avg\": \"$players.age\"}}}   \n",
    "]\n",
    "\n",
    "print(list(db.api_football_com_teams_squads.aggregate(pipeline)))"
   ]
  },
  {
   "cell_type": "code",
   "execution_count": 9,
   "id": "55f569a3-bb28-4204-99cf-518d5c8cb09c",
   "metadata": {
    "tags": []
   },
   "outputs": [],
   "source": [
    "# Funktion zur Extraktion von Daten über einen bestimmten Spieler in einer bestimmten Saison\n",
    "def extract_player_data(player_id, season_id):\n",
    "    player_data = fetch_data(f\"/players?id=\" + str(player_id) + \"&season=\" + str(season_id))    \n",
    "    return player_data"
   ]
  },
  {
   "cell_type": "code",
   "execution_count": 18,
   "id": "4139dd08-b389-429c-b636-cd9ba54ca595",
   "metadata": {
    "tags": []
   },
   "outputs": [
    {
     "name": "stdout",
     "output_type": "stream",
     "text": [
      "{'get': 'players', 'parameters': {'id': '2467', 'season': '2023'}, 'errors': [], 'results': 1, 'paging': {'current': 1, 'total': 1}, 'response': [{'player': {'id': 2467, 'name': 'Lisandro Martínez', 'firstname': 'Lisandro', 'lastname': 'Martínez', 'age': 26, 'birth': {'date': '1998-01-18', 'place': 'Gualeguay', 'country': 'Argentina'}, 'nationality': 'Argentina', 'height': '175 cm', 'weight': '77 kg', 'injured': False, 'photo': 'https://media.api-sports.io/football/players/2467.png'}, 'statistics': [{'team': {'id': 33, 'name': 'Manchester United', 'logo': 'https://media.api-sports.io/football/teams/33.png'}, 'league': {'id': 39, 'name': 'Premier League', 'country': 'England', 'logo': 'https://media.api-sports.io/football/leagues/39.png', 'flag': 'https://media.api-sports.io/flags/gb.svg', 'season': 2023}, 'games': {'appearences': 9, 'lineups': 7, 'minutes': 583, 'number': None, 'position': 'Defender', 'rating': '6.588888', 'captain': False}, 'substitutes': {'in': 2, 'out': 5, 'bench': 2}, 'shots': {'total': None, 'on': None}, 'goals': {'total': 0, 'conceded': 0, 'assists': 1, 'saves': None}, 'passes': {'total': 401, 'key': 3, 'accuracy': 41}, 'tackles': {'total': 11, 'blocks': 7, 'interceptions': 4}, 'duels': {'total': 40, 'won': 18}, 'dribbles': {'attempts': 3, 'success': 2, 'past': None}, 'fouls': {'drawn': 2, 'committed': 6}, 'cards': {'yellow': 3, 'yellowred': 0, 'red': 0}, 'penalty': {'won': None, 'commited': None, 'scored': 0, 'missed': 0, 'saved': None}}, {'team': {'id': 33, 'name': 'Manchester United', 'logo': 'https://media.api-sports.io/football/teams/33.png'}, 'league': {'id': 48, 'name': 'League Cup', 'country': 'England', 'logo': 'https://media.api-sports.io/football/leagues/48.png', 'flag': 'https://media.api-sports.io/flags/gb.svg', 'season': 2023}, 'games': {'appearences': 0, 'lineups': 0, 'minutes': 0, 'number': None, 'position': 'Defender', 'rating': None, 'captain': False}, 'substitutes': {'in': 0, 'out': 0, 'bench': 0}, 'shots': {'total': None, 'on': None}, 'goals': {'total': 0, 'conceded': None, 'assists': None, 'saves': None}, 'passes': {'total': None, 'key': None, 'accuracy': None}, 'tackles': {'total': None, 'blocks': None, 'interceptions': None}, 'duels': {'total': None, 'won': None}, 'dribbles': {'attempts': None, 'success': None, 'past': None}, 'fouls': {'drawn': None, 'committed': None}, 'cards': {'yellow': 0, 'yellowred': 0, 'red': 0}, 'penalty': {'won': None, 'commited': None, 'scored': None, 'missed': None, 'saved': None}}, {'team': {'id': 33, 'name': 'Manchester United', 'logo': 'https://media.api-sports.io/football/teams/33.png'}, 'league': {'id': 45, 'name': 'FA Cup', 'country': 'England', 'logo': 'https://media.api-sports.io/football/leagues/45.png', 'flag': 'https://media.api-sports.io/flags/gb.svg', 'season': 2023}, 'games': {'appearences': 1, 'lineups': 1, 'minutes': 89, 'number': None, 'position': 'Defender', 'rating': '7.000000', 'captain': False}, 'substitutes': {'in': 0, 'out': 1, 'bench': 0}, 'shots': {'total': None, 'on': None}, 'goals': {'total': 0, 'conceded': 0, 'assists': None, 'saves': None}, 'passes': {'total': 74, 'key': 1, 'accuracy': 65}, 'tackles': {'total': 2, 'blocks': 1, 'interceptions': None}, 'duels': {'total': 3, 'won': 3}, 'dribbles': {'attempts': None, 'success': None, 'past': None}, 'fouls': {'drawn': None, 'committed': None}, 'cards': {'yellow': 0, 'yellowred': 0, 'red': 0}, 'penalty': {'won': None, 'commited': None, 'scored': 0, 'missed': 0, 'saved': None}}, {'team': {'id': 33, 'name': 'Manchester United', 'logo': 'https://media.api-sports.io/football/teams/33.png'}, 'league': {'id': 2, 'name': 'UEFA Champions League', 'country': 'World', 'logo': 'https://media.api-sports.io/football/leagues/2.png', 'flag': None, 'season': 2023}, 'games': {'appearences': 1, 'lineups': 1, 'minutes': 90, 'number': None, 'position': 'Defender', 'rating': None, 'captain': False}, 'substitutes': {'in': 0, 'out': 0, 'bench': 0}, 'shots': {'total': None, 'on': None}, 'goals': {'total': 0, 'conceded': None, 'assists': None, 'saves': None}, 'passes': {'total': None, 'key': None, 'accuracy': None}, 'tackles': {'total': None, 'blocks': None, 'interceptions': None}, 'duels': {'total': None, 'won': None}, 'dribbles': {'attempts': None, 'success': None, 'past': None}, 'fouls': {'drawn': None, 'committed': None}, 'cards': {'yellow': 1, 'yellowred': 0, 'red': 0}, 'penalty': {'won': None, 'commited': None, 'scored': None, 'missed': None, 'saved': None}}, {'team': {'id': 33, 'name': 'Manchester United', 'logo': 'https://media.api-sports.io/football/teams/33.png'}, 'league': {'id': 667, 'name': 'Friendlies Clubs', 'country': 'World', 'logo': 'https://media.api-sports.io/football/leagues/667.png', 'flag': None, 'season': 2023}, 'games': {'appearences': 6, 'lineups': 5, 'minutes': 319, 'number': None, 'position': 'Defender', 'rating': None, 'captain': False}, 'substitutes': {'in': 1, 'out': 4, 'bench': 1}, 'shots': {'total': None, 'on': None}, 'goals': {'total': 0, 'conceded': None, 'assists': None, 'saves': None}, 'passes': {'total': None, 'key': None, 'accuracy': None}, 'tackles': {'total': None, 'blocks': None, 'interceptions': None}, 'duels': {'total': None, 'won': None}, 'dribbles': {'attempts': None, 'success': None, 'past': None}, 'fouls': {'drawn': None, 'committed': None}, 'cards': {'yellow': 2, 'yellowred': 0, 'red': 0}, 'penalty': {'won': None, 'commited': None, 'scored': None, 'missed': None, 'saved': None}}, {'team': {'id': 26, 'name': 'Argentina', 'logo': 'https://media.api-sports.io/football/teams/26.png'}, 'league': {'id': 10, 'name': 'Friendlies', 'country': 'World', 'logo': 'https://media.api-sports.io/football/leagues/10.png', 'flag': None, 'season': 2023}, 'games': {'appearences': 1, 'lineups': 0, 'minutes': 44, 'number': None, 'position': 'Defender', 'rating': None, 'captain': False}, 'substitutes': {'in': 1, 'out': 0, 'bench': 2}, 'shots': {'total': None, 'on': None}, 'goals': {'total': 0, 'conceded': None, 'assists': None, 'saves': None}, 'passes': {'total': None, 'key': None, 'accuracy': None}, 'tackles': {'total': None, 'blocks': None, 'interceptions': None}, 'duels': {'total': None, 'won': None}, 'dribbles': {'attempts': None, 'success': None, 'past': None}, 'fouls': {'drawn': None, 'committed': None}, 'cards': {'yellow': 0, 'yellowred': 0, 'red': 0}, 'penalty': {'won': None, 'commited': None, 'scored': None, 'missed': None, 'saved': None}}]}]}\n"
     ]
    }
   ],
   "source": [
    "player = extract_player_data(2467, 2023)\n",
    "print(player)"
   ]
  },
  {
   "cell_type": "code",
   "execution_count": 10,
   "id": "a7d57e13-5cf2-468c-b68b-6261b38798f5",
   "metadata": {
    "tags": []
   },
   "outputs": [],
   "source": [
    "# Funktion zur Extraktion von Daten über den Tabellenstand einer bestimmten Liga, einer bestimmten Saison, eines bestimmten Teams\n",
    "def extract_standing_data(league_id, season_id, team_id):\n",
    "    standing_data = fetch_data(f\"/standings?league=\" + str(league_id) + \"&season=\" + str(season_id) + \"&team=\" + str(team_id))\n",
    "    #top_scorers = scorers_data[\"scorers\"][:num_players]  # Die ersten num_players Top-Torschützen\n",
    "    return standing_data"
   ]
  },
  {
   "cell_type": "code",
   "execution_count": null,
   "id": "7f42f144-b7ff-4d90-a057-1e3a2d8a7ef4",
   "metadata": {},
   "outputs": [],
   "source": [
    "standing = extract_standing_data(39, 2023, 33)\n",
    "print(standing)"
   ]
  },
  {
   "cell_type": "code",
   "execution_count": 11,
   "id": "c5d97a63-fc06-4db1-8f85-ec9089873696",
   "metadata": {
    "tags": []
   },
   "outputs": [],
   "source": [
    "# Funktion zur Extraktion von Daten über den Tabellenstand einer bestimmten Liga, einer bestimmten Saison\n",
    "def extract_standings_data(league_id, season_id):\n",
    "    standings_data = fetch_data(f\"/standings?league=\" + str(league_id) + \"&season=\" + str(season_id))\n",
    "    #top_scorers = scorers_data[\"scorers\"][:num_players]  # Die ersten num_players Top-Torschützen\n",
    "    return standings_data"
   ]
  },
  {
   "cell_type": "code",
   "execution_count": 155,
   "id": "3bf33bd8-501d-432c-8fca-83d934fa63d0",
   "metadata": {
    "tags": []
   },
   "outputs": [
    {
     "name": "stdout",
     "output_type": "stream",
     "text": [
      "<class 'list'>\n",
      "0\n"
     ]
    },
    {
     "ename": "IndexError",
     "evalue": "list index out of range",
     "output_type": "error",
     "traceback": [
      "\u001b[1;31m---------------------------------------------------------------------------\u001b[0m",
      "\u001b[1;31mIndexError\u001b[0m                                Traceback (most recent call last)",
      "Cell \u001b[1;32mIn[155], line 5\u001b[0m\n\u001b[0;32m      3\u001b[0m \u001b[38;5;28mprint\u001b[39m(\u001b[38;5;28mtype\u001b[39m(standings[\u001b[38;5;124m\"\u001b[39m\u001b[38;5;124mresponse\u001b[39m\u001b[38;5;124m\"\u001b[39m]))\n\u001b[0;32m      4\u001b[0m \u001b[38;5;28mprint\u001b[39m(\u001b[38;5;28mlen\u001b[39m(standings[\u001b[38;5;124m\"\u001b[39m\u001b[38;5;124mresponse\u001b[39m\u001b[38;5;124m\"\u001b[39m]))\n\u001b[1;32m----> 5\u001b[0m \u001b[38;5;28mprint\u001b[39m(\u001b[38;5;28mtype\u001b[39m(standings[\u001b[38;5;124m\"\u001b[39m\u001b[38;5;124mresponse\u001b[39m\u001b[38;5;124m\"\u001b[39m][\u001b[38;5;241m0\u001b[39m]))\n\u001b[0;32m      6\u001b[0m \u001b[38;5;28mprint\u001b[39m(standings[\u001b[38;5;124m\"\u001b[39m\u001b[38;5;124mresponse\u001b[39m\u001b[38;5;124m\"\u001b[39m][\u001b[38;5;241m0\u001b[39m])\n\u001b[0;32m      8\u001b[0m standings \u001b[38;5;241m=\u001b[39m standings[\u001b[38;5;124m\"\u001b[39m\u001b[38;5;124mresponse\u001b[39m\u001b[38;5;124m\"\u001b[39m][\u001b[38;5;241m0\u001b[39m][\u001b[38;5;124m\"\u001b[39m\u001b[38;5;124mleague\u001b[39m\u001b[38;5;124m\"\u001b[39m][\u001b[38;5;124m\"\u001b[39m\u001b[38;5;124mstandings\u001b[39m\u001b[38;5;124m\"\u001b[39m]\n",
      "\u001b[1;31mIndexError\u001b[0m: list index out of range"
     ]
    }
   ],
   "source": [
    "standings = extract_standings_data(39, 2023)\n",
    "\n",
    "print(type(standings[\"response\"]))\n",
    "print(len(standings[\"response\"]))\n",
    "print(type(standings[\"response\"][0]))\n",
    "print(standings[\"response\"][0])\n",
    "\n",
    "standings = standings[\"response\"][0][\"league\"][\"standings\"]\n",
    "print(type(standings))\n",
    "print(len(standings))\n",
    "\n",
    "for standing in standings[0]:    \n",
    "    print(\"rank:\", standing[\"rank\"], \"| team_id:\", standing[\"team\"][\"id\"], \"| team_name:\", standing[\"team\"][\"name\"])"
   ]
  },
  {
   "cell_type": "code",
   "execution_count": null,
   "id": "c9930694-3393-4c89-bd51-dda520071a54",
   "metadata": {},
   "outputs": [],
   "source": []
  }
 ],
 "metadata": {
  "kernelspec": {
   "display_name": "Python 3 (ipykernel)",
   "language": "python",
   "name": "python3"
  },
  "language_info": {
   "codemirror_mode": {
    "name": "ipython",
    "version": 3
   },
   "file_extension": ".py",
   "mimetype": "text/x-python",
   "name": "python",
   "nbconvert_exporter": "python",
   "pygments_lexer": "ipython3",
   "version": "3.11.5"
  }
 },
 "nbformat": 4,
 "nbformat_minor": 5
}
