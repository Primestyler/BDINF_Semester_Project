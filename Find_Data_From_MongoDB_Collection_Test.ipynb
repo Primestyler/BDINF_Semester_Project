{
 "cells": [
  {
   "cell_type": "code",
   "execution_count": 7,
   "id": "d1cf116a",
   "metadata": {
    "tags": []
   },
   "outputs": [],
   "source": [
    "import requests\n",
    "from datetime import datetime\n",
    "import math\n",
    "import pymongo\n",
    "\n",
    "# Verbindung zur MongoDB-Datenbank am Azure Server herstellen\n",
    "client = pymongo.MongoClient(\n",
    "    host='20.82.185.108:27017', # <-- IP und Port hier einfügen\n",
    "    serverSelectionTimeoutMS=30000, # 30 Sekunden Timeout\n",
    "    username=\"group3\",\n",
    "    password=\"football\",\n",
    ")\n",
    "\n",
    "# Datenbank auswählen\n",
    "db = client['football_stats']\n",
    "\n",
    "# Funktion zur Abrufung von Daten über die football-data.org API\n",
    "def fetch_data(endpoint):\n",
    "    base_url = 'https://api.football-data.org/v4'\n",
    "    headers = {'X-Auth-Token': 'e2ccc8d2448146f5b4576abf56a7b811'} \n",
    "    response = requests.get(base_url + endpoint, headers=headers)\n",
    "    data = response.json()\n",
    "    return data\n",
    "\n",
    "# Funktion zur Extraktion von Daten über die Top-Torschützen eines Wettbewerbs\n",
    "def extract_top_scorers_data(competition_id, num_players):\n",
    "    scorers_data = fetch_data(f\"/competitions/{competition_id}/scorers\")\n",
    "    top_scorers = scorers_data[\"scorers\"][:num_players]  # Die ersten num_players Top-Torschützen\n",
    "    return top_scorers\n",
    "\n",
    "# Funktion zum Einfügen von Daten in die MongoDB-Datenbank\n",
    "def insert_data_to_database(data, collection_name):\n",
    "    collection = db[collection_name] # Kollektionsname hier einfügen\n",
    "    documents = [{\"player_name\": scorer[\"player\"][\"name\"], \"goals\": scorer[\"goals\"]} for scorer in data]\n",
    "    collection.insert_many(documents)\n",
    "\n",
    "# Beispielaufruf und Einfügen der Top-Torschützen in die Datenbank\n",
    "competition_id = 2019  # Beispielwettbewerbs-ID (Serie A)\n",
    "num_players = 5  # Anzahl der Top-Torschützen, die abgerufen werden sollen\n",
    "\n",
    "#top_scorers = extract_top_scorers_data(competition_id, num_players)\n",
    "#insert_data_to_database(top_scorers, 'top_scorers_collection') # Kollektionsname hier einfügen\n"
   ]
  },
  {
   "cell_type": "code",
   "execution_count": 6,
   "id": "405c324b-cddf-45d6-b500-392ee61b66b4",
   "metadata": {
    "tags": []
   },
   "outputs": [
    {
     "name": "stdout",
     "output_type": "stream",
     "text": [
      "['admin', 'config', 'football_stats', 'local']\n"
     ]
    }
   ],
   "source": [
    "import requests\n",
    "from datetime import datetime\n",
    "import math\n",
    "import pymongo\n",
    "\n",
    "# Verbindung zur MongoDB-Datenbank am Azure Server herstellen\n",
    "client = pymongo.MongoClient(\n",
    "    host='20.82.185.108:27017', # <-- IP und Port hier einfügen\n",
    "    serverSelectionTimeoutMS=30000, # 30 Sekunden Timeout\n",
    "    username=\"group3\",\n",
    "    password=\"football\",\n",
    ")\n",
    "\n",
    "print(client.list_database_names())\n",
    "\n",
    "# Datenbank auswählen\n",
    "db = client['football_stats']"
   ]
  },
  {
   "cell_type": "code",
   "execution_count": 14,
   "id": "7cc3703c-0603-45c7-a99f-bbaf20382ad3",
   "metadata": {
    "tags": []
   },
   "outputs": [],
   "source": [
    "db = client['football_stats']\n",
    "\n",
    "tp_coll = db.get_collection('top_scorers_collection')"
   ]
  },
  {
   "cell_type": "code",
   "execution_count": 15,
   "id": "7e6f676b",
   "metadata": {
    "tags": []
   },
   "outputs": [
    {
     "name": "stdout",
     "output_type": "stream",
     "text": [
      "{'_id': ObjectId('662121e20198e810f04c6ab9'), 'player_name': 'Lautaro Martínez', 'goals': 23}\n",
      "{'_id': ObjectId('662121e20198e810f04c6aba'), 'player_name': 'Dušan Vlahović', 'goals': 15}\n",
      "{'_id': ObjectId('662121e20198e810f04c6abb'), 'player_name': 'Victor Osimhen', 'goals': 13}\n",
      "{'_id': ObjectId('662121e20198e810f04c6abc'), 'player_name': 'Olivier Giroud', 'goals': 13}\n",
      "{'_id': ObjectId('662121e20198e810f04c6abd'), 'player_name': 'Albert Guðmundsson', 'goals': 13}\n",
      "{'_id': ObjectId('6621237c0198e810f04c6abf'), 'player_name': 'Lautaro Martínez', 'goals': 23}\n",
      "{'_id': ObjectId('6621237c0198e810f04c6ac0'), 'player_name': 'Dušan Vlahović', 'goals': 15}\n",
      "{'_id': ObjectId('6621237c0198e810f04c6ac1'), 'player_name': 'Victor Osimhen', 'goals': 13}\n",
      "{'_id': ObjectId('6621237c0198e810f04c6ac2'), 'player_name': 'Olivier Giroud', 'goals': 13}\n",
      "{'_id': ObjectId('6621237c0198e810f04c6ac3'), 'player_name': 'Albert Guðmundsson', 'goals': 13}\n",
      "{'_id': ObjectId('662125cb0198e810f04c6ac7'), 'player_name': 'Lautaro Martínez', 'goals': 23}\n",
      "{'_id': ObjectId('662125cb0198e810f04c6ac8'), 'player_name': 'Dušan Vlahović', 'goals': 15}\n",
      "{'_id': ObjectId('662125cb0198e810f04c6ac9'), 'player_name': 'Victor Osimhen', 'goals': 13}\n",
      "{'_id': ObjectId('662125cb0198e810f04c6aca'), 'player_name': 'Olivier Giroud', 'goals': 13}\n",
      "{'_id': ObjectId('662125cb0198e810f04c6acb'), 'player_name': 'Albert Guðmundsson', 'goals': 13}\n",
      "{'_id': ObjectId('662125cb0198e810f04c6acc'), 'player_name': 'Duván Zapata', 'goals': 12}\n",
      "{'_id': ObjectId('662125cb0198e810f04c6acd'), 'player_name': 'Paulo Dybala', 'goals': 12}\n",
      "{'_id': ObjectId('662125cb0198e810f04c6ace'), 'player_name': 'Joshua Zirkzee', 'goals': 11}\n",
      "{'_id': ObjectId('662125cb0198e810f04c6acf'), 'player_name': 'Marcus Thuram-Ulien', 'goals': 11}\n",
      "{'_id': ObjectId('662125cb0198e810f04c6ad0'), 'player_name': 'Hakan Çalhanoğlu', 'goals': 11}\n",
      "{'_id': ObjectId('662126470198e810f04c6ad2'), 'player_name': 'Lautaro Martínez', 'goals': 23}\n",
      "{'_id': ObjectId('662126470198e810f04c6ad3'), 'player_name': 'Dušan Vlahović', 'goals': 15}\n",
      "{'_id': ObjectId('662126470198e810f04c6ad4'), 'player_name': 'Victor Osimhen', 'goals': 13}\n",
      "{'_id': ObjectId('662126470198e810f04c6ad5'), 'player_name': 'Olivier Giroud', 'goals': 13}\n",
      "{'_id': ObjectId('662126470198e810f04c6ad6'), 'player_name': 'Albert Guðmundsson', 'goals': 13}\n",
      "{'_id': ObjectId('662126490198e810f04c6ad7'), 'player_name': 'Artem Dovbyk', 'goals': 17}\n",
      "{'_id': ObjectId('662126490198e810f04c6ad8'), 'player_name': 'Jude Bellingham', 'goals': 16}\n",
      "{'_id': ObjectId('662126490198e810f04c6ad9'), 'player_name': 'Ante Budimir', 'goals': 16}\n",
      "{'_id': ObjectId('662126490198e810f04c6ada'), 'player_name': 'Borja Mayoral', 'goals': 15}\n",
      "{'_id': ObjectId('662126490198e810f04c6adb'), 'player_name': 'Álvaro Morata', 'goals': 14}\n",
      "{'_id': ObjectId('662126ab0198e810f04c6add'), 'player_name': 'Lautaro Martínez', 'goals': 23}\n",
      "{'_id': ObjectId('662126ab0198e810f04c6ade'), 'player_name': 'Dušan Vlahović', 'goals': 15}\n",
      "{'_id': ObjectId('662126ab0198e810f04c6adf'), 'player_name': 'Victor Osimhen', 'goals': 13}\n",
      "{'_id': ObjectId('662126ab0198e810f04c6ae0'), 'player_name': 'Olivier Giroud', 'goals': 13}\n",
      "{'_id': ObjectId('662126ab0198e810f04c6ae1'), 'player_name': 'Albert Guðmundsson', 'goals': 13}\n",
      "{'_id': ObjectId('662126ab0198e810f04c6ae2'), 'player_name': 'Duván Zapata', 'goals': 12}\n",
      "{'_id': ObjectId('662126ab0198e810f04c6ae3'), 'player_name': 'Paulo Dybala', 'goals': 12}\n",
      "{'_id': ObjectId('662126ab0198e810f04c6ae4'), 'player_name': 'Joshua Zirkzee', 'goals': 11}\n",
      "{'_id': ObjectId('662126ab0198e810f04c6ae5'), 'player_name': 'Marcus Thuram-Ulien', 'goals': 11}\n",
      "{'_id': ObjectId('662126ab0198e810f04c6ae6'), 'player_name': 'Hakan Çalhanoğlu', 'goals': 11}\n",
      "{'_id': ObjectId('662126ae0198e810f04c6ae7'), 'player_name': 'Artem Dovbyk', 'goals': 17}\n",
      "{'_id': ObjectId('662126ae0198e810f04c6ae8'), 'player_name': 'Jude Bellingham', 'goals': 16}\n",
      "{'_id': ObjectId('662126ae0198e810f04c6ae9'), 'player_name': 'Ante Budimir', 'goals': 16}\n",
      "{'_id': ObjectId('662126ae0198e810f04c6aea'), 'player_name': 'Borja Mayoral', 'goals': 15}\n",
      "{'_id': ObjectId('662126ae0198e810f04c6aeb'), 'player_name': 'Álvaro Morata', 'goals': 14}\n",
      "{'_id': ObjectId('662126ae0198e810f04c6aec'), 'player_name': 'Alexander Sørloth', 'goals': 14}\n",
      "{'_id': ObjectId('662126ae0198e810f04c6aed'), 'player_name': 'Gorka Guruzeta', 'goals': 13}\n",
      "{'_id': ObjectId('662126ae0198e810f04c6aee'), 'player_name': 'Robert Lewandowski', 'goals': 13}\n",
      "{'_id': ObjectId('662126ae0198e810f04c6aef'), 'player_name': 'Antoine Griezmann', 'goals': 13}\n",
      "{'_id': ObjectId('662126ae0198e810f04c6af0'), 'player_name': 'Vinicius Junior', 'goals': 12}\n",
      "{'_id': ObjectId('662126da0198e810f04c6af2'), 'player_name': 'Lautaro Martínez', 'goals': 23}\n",
      "{'_id': ObjectId('662126da0198e810f04c6af3'), 'player_name': 'Dušan Vlahović', 'goals': 15}\n",
      "{'_id': ObjectId('662126da0198e810f04c6af4'), 'player_name': 'Victor Osimhen', 'goals': 13}\n",
      "{'_id': ObjectId('662126da0198e810f04c6af5'), 'player_name': 'Olivier Giroud', 'goals': 13}\n",
      "{'_id': ObjectId('662126da0198e810f04c6af6'), 'player_name': 'Albert Guðmundsson', 'goals': 13}\n",
      "{'_id': ObjectId('662126da0198e810f04c6af7'), 'player_name': 'Duván Zapata', 'goals': 12}\n",
      "{'_id': ObjectId('662126da0198e810f04c6af8'), 'player_name': 'Paulo Dybala', 'goals': 12}\n",
      "{'_id': ObjectId('662126da0198e810f04c6af9'), 'player_name': 'Joshua Zirkzee', 'goals': 11}\n",
      "{'_id': ObjectId('662126da0198e810f04c6afa'), 'player_name': 'Marcus Thuram-Ulien', 'goals': 11}\n",
      "{'_id': ObjectId('662126da0198e810f04c6afb'), 'player_name': 'Hakan Çalhanoğlu', 'goals': 11}\n",
      "{'_id': ObjectId('662126dc0198e810f04c6afc'), 'player_name': 'Artem Dovbyk', 'goals': 17}\n",
      "{'_id': ObjectId('662126dc0198e810f04c6afd'), 'player_name': 'Jude Bellingham', 'goals': 16}\n",
      "{'_id': ObjectId('662126dc0198e810f04c6afe'), 'player_name': 'Ante Budimir', 'goals': 16}\n",
      "{'_id': ObjectId('662126dc0198e810f04c6aff'), 'player_name': 'Borja Mayoral', 'goals': 15}\n",
      "{'_id': ObjectId('662126dc0198e810f04c6b00'), 'player_name': 'Álvaro Morata', 'goals': 14}\n",
      "{'_id': ObjectId('662126dc0198e810f04c6b01'), 'player_name': 'Alexander Sørloth', 'goals': 14}\n",
      "{'_id': ObjectId('662126dc0198e810f04c6b02'), 'player_name': 'Gorka Guruzeta', 'goals': 13}\n",
      "{'_id': ObjectId('662126dc0198e810f04c6b03'), 'player_name': 'Robert Lewandowski', 'goals': 13}\n",
      "{'_id': ObjectId('662126dc0198e810f04c6b04'), 'player_name': 'Antoine Griezmann', 'goals': 13}\n",
      "{'_id': ObjectId('662126dc0198e810f04c6b05'), 'player_name': 'Vinicius Junior', 'goals': 12}\n",
      "{'_id': ObjectId('662127120198e810f04c6b07'), 'player_name': 'Lautaro Martínez', 'goals': 23}\n",
      "{'_id': ObjectId('662127120198e810f04c6b08'), 'player_name': 'Dušan Vlahović', 'goals': 15}\n",
      "{'_id': ObjectId('662127120198e810f04c6b09'), 'player_name': 'Victor Osimhen', 'goals': 13}\n",
      "{'_id': ObjectId('662127120198e810f04c6b0a'), 'player_name': 'Olivier Giroud', 'goals': 13}\n",
      "{'_id': ObjectId('662127120198e810f04c6b0b'), 'player_name': 'Albert Guðmundsson', 'goals': 13}\n",
      "{'_id': ObjectId('662127120198e810f04c6b0c'), 'player_name': 'Duván Zapata', 'goals': 12}\n",
      "{'_id': ObjectId('662127120198e810f04c6b0d'), 'player_name': 'Paulo Dybala', 'goals': 12}\n",
      "{'_id': ObjectId('662127120198e810f04c6b0e'), 'player_name': 'Joshua Zirkzee', 'goals': 11}\n",
      "{'_id': ObjectId('662127120198e810f04c6b0f'), 'player_name': 'Marcus Thuram-Ulien', 'goals': 11}\n",
      "{'_id': ObjectId('662127120198e810f04c6b10'), 'player_name': 'Hakan Çalhanoğlu', 'goals': 11}\n",
      "{'_id': ObjectId('662127150198e810f04c6b11'), 'player_name': 'Artem Dovbyk', 'goals': 17}\n",
      "{'_id': ObjectId('662127150198e810f04c6b12'), 'player_name': 'Jude Bellingham', 'goals': 16}\n",
      "{'_id': ObjectId('662127150198e810f04c6b13'), 'player_name': 'Ante Budimir', 'goals': 16}\n",
      "{'_id': ObjectId('662127150198e810f04c6b14'), 'player_name': 'Borja Mayoral', 'goals': 15}\n",
      "{'_id': ObjectId('662127150198e810f04c6b15'), 'player_name': 'Álvaro Morata', 'goals': 14}\n",
      "{'_id': ObjectId('662127150198e810f04c6b16'), 'player_name': 'Alexander Sørloth', 'goals': 14}\n",
      "{'_id': ObjectId('662127150198e810f04c6b17'), 'player_name': 'Gorka Guruzeta', 'goals': 13}\n",
      "{'_id': ObjectId('662127150198e810f04c6b18'), 'player_name': 'Robert Lewandowski', 'goals': 13}\n",
      "{'_id': ObjectId('662127150198e810f04c6b19'), 'player_name': 'Antoine Griezmann', 'goals': 13}\n",
      "{'_id': ObjectId('662127150198e810f04c6b1a'), 'player_name': 'Vinicius Junior', 'goals': 12}\n",
      "{'_id': ObjectId('662127170198e810f04c6b1b'), 'player_name': 'Erling Haaland', 'goals': 20}\n",
      "{'_id': ObjectId('662127170198e810f04c6b1c'), 'player_name': 'Cole Palmer', 'goals': 20}\n",
      "{'_id': ObjectId('662127170198e810f04c6b1d'), 'player_name': 'Ollie Watkins', 'goals': 19}\n",
      "{'_id': ObjectId('662127170198e810f04c6b1e'), 'player_name': 'Dominic Solanke', 'goals': 17}\n",
      "{'_id': ObjectId('662127170198e810f04c6b1f'), 'player_name': 'Alexander Isak', 'goals': 17}\n",
      "{'_id': ObjectId('662127170198e810f04c6b20'), 'player_name': 'Mohamed Salah', 'goals': 17}\n",
      "{'_id': ObjectId('662127170198e810f04c6b21'), 'player_name': 'Jarrod Bowen', 'goals': 15}\n",
      "{'_id': ObjectId('662127170198e810f04c6b22'), 'player_name': 'Heung-min Son', 'goals': 15}\n",
      "{'_id': ObjectId('662127170198e810f04c6b23'), 'player_name': 'Bukayo Saka', 'goals': 14}\n",
      "{'_id': ObjectId('662127170198e810f04c6b24'), 'player_name': 'Phil Foden', 'goals': 14}\n"
     ]
    }
   ],
   "source": [
    "\n",
    "cursor = tp_coll.find()\n",
    "\n",
    "# Daten ausgeben\n",
    "for document in cursor:\n",
    "    print(document)\n"
   ]
  },
  {
   "cell_type": "code",
   "execution_count": null,
   "id": "30f16ae3",
   "metadata": {},
   "outputs": [],
   "source": []
  },
  {
   "cell_type": "code",
   "execution_count": null,
   "id": "3e00c941-9654-4ed7-a425-024916c457d3",
   "metadata": {},
   "outputs": [],
   "source": []
  }
 ],
 "metadata": {
  "kernelspec": {
   "display_name": "Python 3 (ipykernel)",
   "language": "python",
   "name": "python3"
  },
  "language_info": {
   "codemirror_mode": {
    "name": "ipython",
    "version": 3
   },
   "file_extension": ".py",
   "mimetype": "text/x-python",
   "name": "python",
   "nbconvert_exporter": "python",
   "pygments_lexer": "ipython3",
   "version": "3.11.7"
  }
 },
 "nbformat": 4,
 "nbformat_minor": 5
}
