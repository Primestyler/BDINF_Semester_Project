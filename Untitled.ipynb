{
 "cells": [
  {
   "cell_type": "code",
   "execution_count": 6,
   "id": "d1cf116a",
   "metadata": {},
   "outputs": [],
   "source": [
    "import requests\n",
    "from datetime import datetime\n",
    "import math\n",
    "import pymongo\n",
    "\n",
    "# Verbindung zur MongoDB-Datenbank am Azure Server herstellen\n",
    "client = pymongo.MongoClient(\n",
    "    host='20.82.185.108:27017', # <-- IP und Port hier einfügen\n",
    "    serverSelectionTimeoutMS=30000, # 30 Sekunden Timeout\n",
    "    username=\"group3\",\n",
    "    password=\"football\",\n",
    ")\n",
    "\n",
    "# Datenbank auswählen\n",
    "db = client['football_stats']\n",
    "\n",
    "# Funktion zur Abrufung von Daten über die football-data.org API\n",
    "def fetch_data(endpoint):\n",
    "    base_url = 'https://api.football-data.org/v4'\n",
    "    headers = {'X-Auth-Token': 'e2ccc8d2448146f5b4576abf56a7b811'} \n",
    "    response = requests.get(base_url + endpoint, headers=headers)\n",
    "    data = response.json()\n",
    "    return data\n",
    "\n",
    "# Funktion zur Extraktion von Daten über die Top-Torschützen eines Wettbewerbs\n",
    "def extract_top_scorers_data(competition_id, num_players):\n",
    "    scorers_data = fetch_data(f\"/competitions/{competition_id}/scorers\")\n",
    "    top_scorers = scorers_data[\"scorers\"][:num_players]  # Die ersten num_players Top-Torschützen\n",
    "    return top_scorers\n",
    "\n",
    "# Funktion zum Einfügen von Daten in die MongoDB-Datenbank\n",
    "def insert_data_to_database(data, collection_name):\n",
    "    collection = db[collection_name] # Kollektionsname hier einfügen\n",
    "    documents = [{\"player_name\": scorer[\"player\"][\"name\"], \"goals\": scorer[\"goals\"]} for scorer in data]\n",
    "    collection.insert_many(documents)\n",
    "\n",
    "# Beispielaufruf und Einfügen der Top-Torschützen in die Datenbank\n",
    "competition_id = 2019  # Beispielwettbewerbs-ID (Serie A)\n",
    "num_players = 5  # Anzahl der Top-Torschützen, die abgerufen werden sollen\n",
    "\n",
    "top_scorers = extract_top_scorers_data(competition_id, num_players)\n",
    "insert_data_to_database(top_scorers, 'top_scorers_collection') # Kollektionsname hier einfügen\n"
   ]
  },
  {
   "cell_type": "code",
   "execution_count": 15,
   "id": "7e6f676b",
   "metadata": {},
   "outputs": [
    {
     "name": "stdout",
     "output_type": "stream",
     "text": [
      "{'_id': ObjectId('662121e20198e810f04c6ab9'), 'player_name': 'Lautaro Martínez', 'goals': 23}\n",
      "{'_id': ObjectId('662121e20198e810f04c6aba'), 'player_name': 'Dušan Vlahović', 'goals': 15}\n",
      "{'_id': ObjectId('662121e20198e810f04c6abb'), 'player_name': 'Victor Osimhen', 'goals': 13}\n",
      "{'_id': ObjectId('662121e20198e810f04c6abc'), 'player_name': 'Olivier Giroud', 'goals': 13}\n",
      "{'_id': ObjectId('662121e20198e810f04c6abd'), 'player_name': 'Albert Guðmundsson', 'goals': 13}\n",
      "{'_id': ObjectId('6621237c0198e810f04c6abf'), 'player_name': 'Lautaro Martínez', 'goals': 23}\n",
      "{'_id': ObjectId('6621237c0198e810f04c6ac0'), 'player_name': 'Dušan Vlahović', 'goals': 15}\n",
      "{'_id': ObjectId('6621237c0198e810f04c6ac1'), 'player_name': 'Victor Osimhen', 'goals': 13}\n",
      "{'_id': ObjectId('6621237c0198e810f04c6ac2'), 'player_name': 'Olivier Giroud', 'goals': 13}\n",
      "{'_id': ObjectId('6621237c0198e810f04c6ac3'), 'player_name': 'Albert Guðmundsson', 'goals': 13}\n"
     ]
    }
   ],
   "source": [
    "\n",
    "cursor = top_scorers_collection.find()\n",
    "\n",
    "# Daten ausgeben\n",
    "for document in cursor:\n",
    "    print(document)\n"
   ]
  },
  {
   "cell_type": "code",
   "execution_count": null,
   "id": "30f16ae3",
   "metadata": {},
   "outputs": [],
   "source": []
  }
 ],
 "metadata": {
  "kernelspec": {
   "display_name": "Python 3 (ipykernel)",
   "language": "python",
   "name": "python3"
  },
  "language_info": {
   "codemirror_mode": {
    "name": "ipython",
    "version": 3
   },
   "file_extension": ".py",
   "mimetype": "text/x-python",
   "name": "python",
   "nbconvert_exporter": "python",
   "pygments_lexer": "ipython3",
   "version": "3.11.5"
  }
 },
 "nbformat": 4,
 "nbformat_minor": 5
}
